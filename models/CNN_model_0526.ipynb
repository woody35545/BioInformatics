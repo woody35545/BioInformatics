{
  "nbformat": 4,
  "nbformat_minor": 0,
  "metadata": {
    "colab": {
      "name": "CNN_model_0526.ipynb",
      "provenance": [],
      "collapsed_sections": []
    },
    "kernelspec": {
      "name": "python3",
      "display_name": "Python 3"
    },
    "language_info": {
      "name": "python"
    }
  },
  "cells": [
    {
      "cell_type": "code",
      "execution_count": null,
      "metadata": {
        "id": "X_OBwhfQ4Oiv"
      },
      "outputs": [],
      "source": [
        "import pandas as pd\n",
        "import numpy as np\n",
        "from sklearn.model_selection import train_test_split\n",
        "\n",
        "import matplotlib.pyplot as plt\n",
        "%matplotlib inline\n",
        "from os.path import join\n",
        "import tensorflow as tf\n",
        "from tensorflow.keras import layers, models, optimizers"
      ]
    },
    {
      "cell_type": "code",
      "source": [
        "def sequence_to_onehot(_datax):\n",
        "  res_list = []\n",
        "  for i in range(len(_datax)):\n",
        "    tmp =list()\n",
        "    mapping = {\"A\":[1., 0., 0., 0.], \"C\": [0., 1., 0., 0.], \"G\": [0., 0., 1., 0.], \"T\":[0., 0., 0., 1.]}\n",
        "    for j in _datax[i]:\n",
        "      tmp.append(mapping[j]  if j in mapping.keys() else [0., 0., 0., 0.]) \n",
        "    res_list.append(np.array(tmp))\n",
        "  res_np = np.array(res_list)\n",
        "  return res_np"
      ],
      "metadata": {
        "id": "-tshrjIv9sj_"
      },
      "execution_count": null,
      "outputs": []
    },
    {
      "cell_type": "code",
      "source": [
        "# data shuffle\n",
        "df_shuffled = pd.read_csv('data.csv').sample(frac=1).reset_index(drop=True)\n",
        "\n",
        "# x, y 분류. numpy로 변환 후 1차원으로 reshape, sequence onehot encoding\n",
        "datax = sequence_to_onehot(df_shuffled.iloc[:,[0,]].to_numpy().reshape(-1))\n",
        "datay = df_shuffled.iloc[:,[2,]].to_numpy().reshape(-1)\n"
      ],
      "metadata": {
        "id": "iarQFHEQ5Wza"
      },
      "execution_count": null,
      "outputs": []
    },
    {
      "cell_type": "code",
      "source": [
        "df_dummies = pd.get_dummies(df_shuffled, columns=['label'])"
      ],
      "metadata": {
        "id": "Qw1rNVhHGhJ4"
      },
      "execution_count": null,
      "outputs": []
    },
    {
      "cell_type": "code",
      "source": [
        "df_shuffled.head(10)"
      ],
      "metadata": {
        "colab": {
          "base_uri": "https://localhost:8080/",
          "height": 363
        },
        "id": "Ux74RkwhkUwK",
        "outputId": "cd69c402-48dc-4bdc-c13e-fcc44b47f4dd"
      },
      "execution_count": null,
      "outputs": [
        {
          "output_type": "execute_result",
          "data": {
            "text/plain": [
              "                                            sequence   len  label\n",
              "0  TCCTCCTCCTCTGCTCCTCCCGATCCCTCCTCCGCCGCCTGGTCCC...  5600      1\n",
              "1  AGCGCCCGCCGCGGCCGAGGCGGCCGGAGTCCCGAGCTAGCCCCGG...  5600      1\n",
              "2  AGCGCCCGACGCGGCCGAGGCGGCCGGAGTCCCGAGCTAGCCCCGG...  5600      0\n",
              "3  AGCGCCCGACGCGGCCGAGGCGGCCGGAGTCCCGAGCTAGCCCCGG...  5600      0\n",
              "4  AGCGCCCGCCGCGGCCGAGGCGGCCGGAGTCCCGAGCTAGCCCCGG...  5600      1\n",
              "5  AGCGCCCGCCGCGGCCGAGGCGGCCGGAGTCCCGAGCTAGCCCCGG...  5600      1\n",
              "6  AGCGCCCGACGCGGCCGAGGCGGCCGGAGTCCCGAGCTAGCCCCGG...  5600      0\n",
              "7  TAGACGTCCGGGCAGCCCCCGGCGCAGCGCGGCCGCAGCAGCCTCC...  5600      1\n",
              "8  AGCGCCCGACGCGGCCGAGGCGGCCGGAGTCCCGAGCTAGCCCCGG...  5600      0\n",
              "9  AGCGCCCGACGCGGCCGAGGCGGCCCGAGTCCCGAGCTAGCCCCGG...  5600      0"
            ],
            "text/html": [
              "\n",
              "  <div id=\"df-1f8f0942-76e6-4e8b-9a39-e988ef1d682f\">\n",
              "    <div class=\"colab-df-container\">\n",
              "      <div>\n",
              "<style scoped>\n",
              "    .dataframe tbody tr th:only-of-type {\n",
              "        vertical-align: middle;\n",
              "    }\n",
              "\n",
              "    .dataframe tbody tr th {\n",
              "        vertical-align: top;\n",
              "    }\n",
              "\n",
              "    .dataframe thead th {\n",
              "        text-align: right;\n",
              "    }\n",
              "</style>\n",
              "<table border=\"1\" class=\"dataframe\">\n",
              "  <thead>\n",
              "    <tr style=\"text-align: right;\">\n",
              "      <th></th>\n",
              "      <th>sequence</th>\n",
              "      <th>len</th>\n",
              "      <th>label</th>\n",
              "    </tr>\n",
              "  </thead>\n",
              "  <tbody>\n",
              "    <tr>\n",
              "      <th>0</th>\n",
              "      <td>TCCTCCTCCTCTGCTCCTCCCGATCCCTCCTCCGCCGCCTGGTCCC...</td>\n",
              "      <td>5600</td>\n",
              "      <td>1</td>\n",
              "    </tr>\n",
              "    <tr>\n",
              "      <th>1</th>\n",
              "      <td>AGCGCCCGCCGCGGCCGAGGCGGCCGGAGTCCCGAGCTAGCCCCGG...</td>\n",
              "      <td>5600</td>\n",
              "      <td>1</td>\n",
              "    </tr>\n",
              "    <tr>\n",
              "      <th>2</th>\n",
              "      <td>AGCGCCCGACGCGGCCGAGGCGGCCGGAGTCCCGAGCTAGCCCCGG...</td>\n",
              "      <td>5600</td>\n",
              "      <td>0</td>\n",
              "    </tr>\n",
              "    <tr>\n",
              "      <th>3</th>\n",
              "      <td>AGCGCCCGACGCGGCCGAGGCGGCCGGAGTCCCGAGCTAGCCCCGG...</td>\n",
              "      <td>5600</td>\n",
              "      <td>0</td>\n",
              "    </tr>\n",
              "    <tr>\n",
              "      <th>4</th>\n",
              "      <td>AGCGCCCGCCGCGGCCGAGGCGGCCGGAGTCCCGAGCTAGCCCCGG...</td>\n",
              "      <td>5600</td>\n",
              "      <td>1</td>\n",
              "    </tr>\n",
              "    <tr>\n",
              "      <th>5</th>\n",
              "      <td>AGCGCCCGCCGCGGCCGAGGCGGCCGGAGTCCCGAGCTAGCCCCGG...</td>\n",
              "      <td>5600</td>\n",
              "      <td>1</td>\n",
              "    </tr>\n",
              "    <tr>\n",
              "      <th>6</th>\n",
              "      <td>AGCGCCCGACGCGGCCGAGGCGGCCGGAGTCCCGAGCTAGCCCCGG...</td>\n",
              "      <td>5600</td>\n",
              "      <td>0</td>\n",
              "    </tr>\n",
              "    <tr>\n",
              "      <th>7</th>\n",
              "      <td>TAGACGTCCGGGCAGCCCCCGGCGCAGCGCGGCCGCAGCAGCCTCC...</td>\n",
              "      <td>5600</td>\n",
              "      <td>1</td>\n",
              "    </tr>\n",
              "    <tr>\n",
              "      <th>8</th>\n",
              "      <td>AGCGCCCGACGCGGCCGAGGCGGCCGGAGTCCCGAGCTAGCCCCGG...</td>\n",
              "      <td>5600</td>\n",
              "      <td>0</td>\n",
              "    </tr>\n",
              "    <tr>\n",
              "      <th>9</th>\n",
              "      <td>AGCGCCCGACGCGGCCGAGGCGGCCCGAGTCCCGAGCTAGCCCCGG...</td>\n",
              "      <td>5600</td>\n",
              "      <td>0</td>\n",
              "    </tr>\n",
              "  </tbody>\n",
              "</table>\n",
              "</div>\n",
              "      <button class=\"colab-df-convert\" onclick=\"convertToInteractive('df-1f8f0942-76e6-4e8b-9a39-e988ef1d682f')\"\n",
              "              title=\"Convert this dataframe to an interactive table.\"\n",
              "              style=\"display:none;\">\n",
              "        \n",
              "  <svg xmlns=\"http://www.w3.org/2000/svg\" height=\"24px\"viewBox=\"0 0 24 24\"\n",
              "       width=\"24px\">\n",
              "    <path d=\"M0 0h24v24H0V0z\" fill=\"none\"/>\n",
              "    <path d=\"M18.56 5.44l.94 2.06.94-2.06 2.06-.94-2.06-.94-.94-2.06-.94 2.06-2.06.94zm-11 1L8.5 8.5l.94-2.06 2.06-.94-2.06-.94L8.5 2.5l-.94 2.06-2.06.94zm10 10l.94 2.06.94-2.06 2.06-.94-2.06-.94-.94-2.06-.94 2.06-2.06.94z\"/><path d=\"M17.41 7.96l-1.37-1.37c-.4-.4-.92-.59-1.43-.59-.52 0-1.04.2-1.43.59L10.3 9.45l-7.72 7.72c-.78.78-.78 2.05 0 2.83L4 21.41c.39.39.9.59 1.41.59.51 0 1.02-.2 1.41-.59l7.78-7.78 2.81-2.81c.8-.78.8-2.07 0-2.86zM5.41 20L4 18.59l7.72-7.72 1.47 1.35L5.41 20z\"/>\n",
              "  </svg>\n",
              "      </button>\n",
              "      \n",
              "  <style>\n",
              "    .colab-df-container {\n",
              "      display:flex;\n",
              "      flex-wrap:wrap;\n",
              "      gap: 12px;\n",
              "    }\n",
              "\n",
              "    .colab-df-convert {\n",
              "      background-color: #E8F0FE;\n",
              "      border: none;\n",
              "      border-radius: 50%;\n",
              "      cursor: pointer;\n",
              "      display: none;\n",
              "      fill: #1967D2;\n",
              "      height: 32px;\n",
              "      padding: 0 0 0 0;\n",
              "      width: 32px;\n",
              "    }\n",
              "\n",
              "    .colab-df-convert:hover {\n",
              "      background-color: #E2EBFA;\n",
              "      box-shadow: 0px 1px 2px rgba(60, 64, 67, 0.3), 0px 1px 3px 1px rgba(60, 64, 67, 0.15);\n",
              "      fill: #174EA6;\n",
              "    }\n",
              "\n",
              "    [theme=dark] .colab-df-convert {\n",
              "      background-color: #3B4455;\n",
              "      fill: #D2E3FC;\n",
              "    }\n",
              "\n",
              "    [theme=dark] .colab-df-convert:hover {\n",
              "      background-color: #434B5C;\n",
              "      box-shadow: 0px 1px 3px 1px rgba(0, 0, 0, 0.15);\n",
              "      filter: drop-shadow(0px 1px 2px rgba(0, 0, 0, 0.3));\n",
              "      fill: #FFFFFF;\n",
              "    }\n",
              "  </style>\n",
              "\n",
              "      <script>\n",
              "        const buttonEl =\n",
              "          document.querySelector('#df-1f8f0942-76e6-4e8b-9a39-e988ef1d682f button.colab-df-convert');\n",
              "        buttonEl.style.display =\n",
              "          google.colab.kernel.accessAllowed ? 'block' : 'none';\n",
              "\n",
              "        async function convertToInteractive(key) {\n",
              "          const element = document.querySelector('#df-1f8f0942-76e6-4e8b-9a39-e988ef1d682f');\n",
              "          const dataTable =\n",
              "            await google.colab.kernel.invokeFunction('convertToInteractive',\n",
              "                                                     [key], {});\n",
              "          if (!dataTable) return;\n",
              "\n",
              "          const docLinkHtml = 'Like what you see? Visit the ' +\n",
              "            '<a target=\"_blank\" href=https://colab.research.google.com/notebooks/data_table.ipynb>data table notebook</a>'\n",
              "            + ' to learn more about interactive tables.';\n",
              "          element.innerHTML = '';\n",
              "          dataTable['output_type'] = 'display_data';\n",
              "          await google.colab.output.renderOutput(dataTable, element);\n",
              "          const docLink = document.createElement('div');\n",
              "          docLink.innerHTML = docLinkHtml;\n",
              "          element.appendChild(docLink);\n",
              "        }\n",
              "      </script>\n",
              "    </div>\n",
              "  </div>\n",
              "  "
            ]
          },
          "metadata": {},
          "execution_count": 12
        }
      ]
    },
    {
      "cell_type": "code",
      "source": [
        "datay = df_dummies[['label_0', 'label_1']]\n",
        "datay.head()"
      ],
      "metadata": {
        "colab": {
          "base_uri": "https://localhost:8080/",
          "height": 206
        },
        "id": "HqZV34f9IQRZ",
        "outputId": "586b77b2-73e8-4937-981f-9c86e6a44829"
      },
      "execution_count": null,
      "outputs": [
        {
          "output_type": "execute_result",
          "data": {
            "text/plain": [
              "   label_0  label_1\n",
              "0        0        1\n",
              "1        0        1\n",
              "2        1        0\n",
              "3        1        0\n",
              "4        0        1"
            ],
            "text/html": [
              "\n",
              "  <div id=\"df-850554e2-dea8-4de0-835d-78c956e90cf2\">\n",
              "    <div class=\"colab-df-container\">\n",
              "      <div>\n",
              "<style scoped>\n",
              "    .dataframe tbody tr th:only-of-type {\n",
              "        vertical-align: middle;\n",
              "    }\n",
              "\n",
              "    .dataframe tbody tr th {\n",
              "        vertical-align: top;\n",
              "    }\n",
              "\n",
              "    .dataframe thead th {\n",
              "        text-align: right;\n",
              "    }\n",
              "</style>\n",
              "<table border=\"1\" class=\"dataframe\">\n",
              "  <thead>\n",
              "    <tr style=\"text-align: right;\">\n",
              "      <th></th>\n",
              "      <th>label_0</th>\n",
              "      <th>label_1</th>\n",
              "    </tr>\n",
              "  </thead>\n",
              "  <tbody>\n",
              "    <tr>\n",
              "      <th>0</th>\n",
              "      <td>0</td>\n",
              "      <td>1</td>\n",
              "    </tr>\n",
              "    <tr>\n",
              "      <th>1</th>\n",
              "      <td>0</td>\n",
              "      <td>1</td>\n",
              "    </tr>\n",
              "    <tr>\n",
              "      <th>2</th>\n",
              "      <td>1</td>\n",
              "      <td>0</td>\n",
              "    </tr>\n",
              "    <tr>\n",
              "      <th>3</th>\n",
              "      <td>1</td>\n",
              "      <td>0</td>\n",
              "    </tr>\n",
              "    <tr>\n",
              "      <th>4</th>\n",
              "      <td>0</td>\n",
              "      <td>1</td>\n",
              "    </tr>\n",
              "  </tbody>\n",
              "</table>\n",
              "</div>\n",
              "      <button class=\"colab-df-convert\" onclick=\"convertToInteractive('df-850554e2-dea8-4de0-835d-78c956e90cf2')\"\n",
              "              title=\"Convert this dataframe to an interactive table.\"\n",
              "              style=\"display:none;\">\n",
              "        \n",
              "  <svg xmlns=\"http://www.w3.org/2000/svg\" height=\"24px\"viewBox=\"0 0 24 24\"\n",
              "       width=\"24px\">\n",
              "    <path d=\"M0 0h24v24H0V0z\" fill=\"none\"/>\n",
              "    <path d=\"M18.56 5.44l.94 2.06.94-2.06 2.06-.94-2.06-.94-.94-2.06-.94 2.06-2.06.94zm-11 1L8.5 8.5l.94-2.06 2.06-.94-2.06-.94L8.5 2.5l-.94 2.06-2.06.94zm10 10l.94 2.06.94-2.06 2.06-.94-2.06-.94-.94-2.06-.94 2.06-2.06.94z\"/><path d=\"M17.41 7.96l-1.37-1.37c-.4-.4-.92-.59-1.43-.59-.52 0-1.04.2-1.43.59L10.3 9.45l-7.72 7.72c-.78.78-.78 2.05 0 2.83L4 21.41c.39.39.9.59 1.41.59.51 0 1.02-.2 1.41-.59l7.78-7.78 2.81-2.81c.8-.78.8-2.07 0-2.86zM5.41 20L4 18.59l7.72-7.72 1.47 1.35L5.41 20z\"/>\n",
              "  </svg>\n",
              "      </button>\n",
              "      \n",
              "  <style>\n",
              "    .colab-df-container {\n",
              "      display:flex;\n",
              "      flex-wrap:wrap;\n",
              "      gap: 12px;\n",
              "    }\n",
              "\n",
              "    .colab-df-convert {\n",
              "      background-color: #E8F0FE;\n",
              "      border: none;\n",
              "      border-radius: 50%;\n",
              "      cursor: pointer;\n",
              "      display: none;\n",
              "      fill: #1967D2;\n",
              "      height: 32px;\n",
              "      padding: 0 0 0 0;\n",
              "      width: 32px;\n",
              "    }\n",
              "\n",
              "    .colab-df-convert:hover {\n",
              "      background-color: #E2EBFA;\n",
              "      box-shadow: 0px 1px 2px rgba(60, 64, 67, 0.3), 0px 1px 3px 1px rgba(60, 64, 67, 0.15);\n",
              "      fill: #174EA6;\n",
              "    }\n",
              "\n",
              "    [theme=dark] .colab-df-convert {\n",
              "      background-color: #3B4455;\n",
              "      fill: #D2E3FC;\n",
              "    }\n",
              "\n",
              "    [theme=dark] .colab-df-convert:hover {\n",
              "      background-color: #434B5C;\n",
              "      box-shadow: 0px 1px 3px 1px rgba(0, 0, 0, 0.15);\n",
              "      filter: drop-shadow(0px 1px 2px rgba(0, 0, 0, 0.3));\n",
              "      fill: #FFFFFF;\n",
              "    }\n",
              "  </style>\n",
              "\n",
              "      <script>\n",
              "        const buttonEl =\n",
              "          document.querySelector('#df-850554e2-dea8-4de0-835d-78c956e90cf2 button.colab-df-convert');\n",
              "        buttonEl.style.display =\n",
              "          google.colab.kernel.accessAllowed ? 'block' : 'none';\n",
              "\n",
              "        async function convertToInteractive(key) {\n",
              "          const element = document.querySelector('#df-850554e2-dea8-4de0-835d-78c956e90cf2');\n",
              "          const dataTable =\n",
              "            await google.colab.kernel.invokeFunction('convertToInteractive',\n",
              "                                                     [key], {});\n",
              "          if (!dataTable) return;\n",
              "\n",
              "          const docLinkHtml = 'Like what you see? Visit the ' +\n",
              "            '<a target=\"_blank\" href=https://colab.research.google.com/notebooks/data_table.ipynb>data table notebook</a>'\n",
              "            + ' to learn more about interactive tables.';\n",
              "          element.innerHTML = '';\n",
              "          dataTable['output_type'] = 'display_data';\n",
              "          await google.colab.output.renderOutput(dataTable, element);\n",
              "          const docLink = document.createElement('div');\n",
              "          docLink.innerHTML = docLinkHtml;\n",
              "          element.appendChild(docLink);\n",
              "        }\n",
              "      </script>\n",
              "    </div>\n",
              "  </div>\n",
              "  "
            ]
          },
          "metadata": {},
          "execution_count": 19
        }
      ]
    },
    {
      "cell_type": "code",
      "source": [
        "print(datax.shape)"
      ],
      "metadata": {
        "colab": {
          "base_uri": "https://localhost:8080/"
        },
        "id": "PKBVARUi6vpB",
        "outputId": "a69b70be-12b6-4458-80c1-af0a4ea678a9"
      },
      "execution_count": null,
      "outputs": [
        {
          "output_type": "stream",
          "name": "stdout",
          "text": [
            "(242, 5600, 4)\n"
          ]
        }
      ]
    },
    {
      "cell_type": "code",
      "source": [
        "datax[0]"
      ],
      "metadata": {
        "colab": {
          "base_uri": "https://localhost:8080/"
        },
        "id": "oPXv1YgxSDc2",
        "outputId": "088791e2-f004-4371-d95d-50309d8c2f97"
      },
      "execution_count": null,
      "outputs": [
        {
          "output_type": "execute_result",
          "data": {
            "text/plain": [
              "array([[1., 0., 0., 0.],\n",
              "       [0., 0., 1., 0.],\n",
              "       [0., 1., 0., 0.],\n",
              "       ...,\n",
              "       [0., 0., 1., 0.],\n",
              "       [0., 0., 1., 0.],\n",
              "       [0., 0., 0., 1.]])"
            ]
          },
          "metadata": {},
          "execution_count": 46
        }
      ]
    },
    {
      "cell_type": "code",
      "source": [
        "# Train, Test Split \n",
        "trnx, tstx, trny, tsty = train_test_split(datax, datay, test_size = 0.3, random_state =111)\n",
        "\n",
        "print(f\"Train = {trnx.shape[0]}개, Test = {tstx.shape[0]}개\")\n",
        "print(f\"trnx.shape = {trnx.shape}\")\n",
        "print(f\"tstx.shape = {tstx.shape}\")\n",
        "print(f\"trny.shape = {trny.shape}\")\n",
        "print(f\"tsty.shape = {tsty.shape}\")\n",
        "\n"
      ],
      "metadata": {
        "colab": {
          "base_uri": "https://localhost:8080/"
        },
        "id": "q-VdsF73AgpL",
        "outputId": "b0effab8-830c-40b2-f9bf-e2ed4c5fb988"
      },
      "execution_count": null,
      "outputs": [
        {
          "output_type": "stream",
          "name": "stdout",
          "text": [
            "Train = 169개, Test = 73개\n",
            "trnx.shape = (169, 5600, 4)\n",
            "tstx.shape = (73, 5600, 4)\n",
            "trny.shape = (169,)\n",
            "tsty.shape = (73,)\n"
          ]
        }
      ]
    },
    {
      "cell_type": "code",
      "source": [
        "input_shape = (5600,4,1)\n",
        "cnn_model = models.Sequential()\n",
        "\n",
        "cnn_model.add(layers.Conv2D(16,(2,2), padding='same', input_shape=input_shape))\n",
        "cnn_model.add(layers.BatchNormalization())\n",
        "cnn_model.add(layers.Activation(\"relu\"))\n",
        "cnn_model.add(layers.MaxPooling2D((2,1)))\n",
        "\n",
        "cnn_model.add(layers.Conv2D(16,(2,2), padding='same'))\n",
        "cnn_model.add(layers.BatchNormalization())\n",
        "cnn_model.add(layers.Activation(\"relu\"))\n",
        "cnn_model.add(layers.Dropout(0.2))\n",
        "cnn_model.add(layers.MaxPooling2D((2,1)))\n",
        "\n",
        "cnn_model.add(layers.Flatten())\n",
        "\n",
        "cnn_model.add(layers.Dense(units = 100, activation = \"relu\"))\n",
        "cnn_model.add(layers.Dense(units = 1, activation = \"sigmoid\"))\n"
      ],
      "metadata": {
        "id": "3xt7StZmQh8E"
      },
      "execution_count": null,
      "outputs": []
    },
    {
      "cell_type": "code",
      "source": [
        "opt = optimizers.SGD(lr=0.01)\n",
        "cnn_model.compile(optimizer = 'Adam', loss = 'binary_crossentropy', metrics=['accuracy'])\n",
        "\n",
        "cnn_model.summary()"
      ],
      "metadata": {
        "colab": {
          "base_uri": "https://localhost:8080/"
        },
        "id": "rqGNWsGOklsp",
        "outputId": "1883a048-f2a9-4219-a01f-e3e8cab92e5c"
      },
      "execution_count": null,
      "outputs": [
        {
          "output_type": "stream",
          "name": "stdout",
          "text": [
            "Model: \"sequential_3\"\n",
            "_________________________________________________________________\n",
            " Layer (type)                Output Shape              Param #   \n",
            "=================================================================\n",
            " conv2d_6 (Conv2D)           (None, 5600, 4, 16)       80        \n",
            "                                                                 \n",
            " batch_normalization_6 (Batc  (None, 5600, 4, 16)      64        \n",
            " hNormalization)                                                 \n",
            "                                                                 \n",
            " activation_6 (Activation)   (None, 5600, 4, 16)       0         \n",
            "                                                                 \n",
            " max_pooling2d_6 (MaxPooling  (None, 2800, 4, 16)      0         \n",
            " 2D)                                                             \n",
            "                                                                 \n",
            " conv2d_7 (Conv2D)           (None, 2800, 4, 16)       1040      \n",
            "                                                                 \n",
            " batch_normalization_7 (Batc  (None, 2800, 4, 16)      64        \n",
            " hNormalization)                                                 \n",
            "                                                                 \n",
            " activation_7 (Activation)   (None, 2800, 4, 16)       0         \n",
            "                                                                 \n",
            " dropout_3 (Dropout)         (None, 2800, 4, 16)       0         \n",
            "                                                                 \n",
            " max_pooling2d_7 (MaxPooling  (None, 1400, 4, 16)      0         \n",
            " 2D)                                                             \n",
            "                                                                 \n",
            " flatten_3 (Flatten)         (None, 89600)             0         \n",
            "                                                                 \n",
            " dense_6 (Dense)             (None, 100)               8960100   \n",
            "                                                                 \n",
            " dense_7 (Dense)             (None, 1)                 101       \n",
            "                                                                 \n",
            "=================================================================\n",
            "Total params: 8,961,449\n",
            "Trainable params: 8,961,385\n"
          ]
        },
        {
          "output_type": "stream",
          "name": "stderr",
          "text": [
            "/usr/local/lib/python3.7/dist-packages/keras/optimizer_v2/gradient_descent.py:102: UserWarning: The `lr` argument is deprecated, use `learning_rate` instead.\n",
            "  super(SGD, self).__init__(name, **kwargs)\n"
          ]
        },
        {
          "output_type": "stream",
          "name": "stdout",
          "text": [
            "Non-trainable params: 64\n",
            "_________________________________________________________________\n"
          ]
        }
      ]
    },
    {
      "cell_type": "code",
      "source": [
        "histroy = cnn_model.fit(trnx.reshape(-1,5600,4,1), trny, validation_data = [tstx.reshape(-1,5600,4,1),tsty], batch_size=20, epochs = 100)"
      ],
      "metadata": {
        "colab": {
          "base_uri": "https://localhost:8080/",
          "height": 1000
        },
        "id": "1PX_55ZGXfJW",
        "outputId": "04f218c1-8ef7-4554-b5ec-6272c135a12c"
      },
      "execution_count": null,
      "outputs": [
        {
          "output_type": "stream",
          "name": "stdout",
          "text": [
            "Epoch 1/100\n"
          ]
        },
        {
          "output_type": "error",
          "ename": "KeyboardInterrupt",
          "evalue": "ignored",
          "traceback": [
            "\u001b[0;31m---------------------------------------------------------------------------\u001b[0m",
            "\u001b[0;31mKeyboardInterrupt\u001b[0m                         Traceback (most recent call last)",
            "\u001b[0;32m/usr/local/lib/python3.7/dist-packages/zmq/backend/cython/checkrc.pxd\u001b[0m in \u001b[0;36mzmq.backend.cython.checkrc._check_rc\u001b[0;34m()\u001b[0m\n",
            "\u001b[0;31mKeyboardInterrupt\u001b[0m: "
          ]
        },
        {
          "output_type": "stream",
          "name": "stderr",
          "text": [
            "Exception ignored in: 'zmq.backend.cython.message.Frame.__dealloc__'\n",
            "Traceback (most recent call last):\n",
            "  File \"zmq/backend/cython/checkrc.pxd\", line 13, in zmq.backend.cython.checkrc._check_rc\n",
            "KeyboardInterrupt\n"
          ]
        },
        {
          "output_type": "stream",
          "name": "stdout",
          "text": [
            "9/9 [==============================] - 57s 1s/step - loss: 16.4834 - accuracy: 0.6627 - val_loss: 8.8669 - val_accuracy: 0.4795\n",
            "Epoch 2/100\n",
            "9/9 [==============================] - 6s 686ms/step - loss: 29.2014 - accuracy: 0.7041 - val_loss: 10.7710 - val_accuracy: 0.4795\n",
            "Epoch 3/100\n",
            "9/9 [==============================] - 5s 550ms/step - loss: 36.2810 - accuracy: 0.6213 - val_loss: 2.4572 - val_accuracy: 0.4795\n",
            "Epoch 4/100\n",
            "9/9 [==============================] - 6s 622ms/step - loss: 19.9628 - accuracy: 0.7515 - val_loss: 10.1326 - val_accuracy: 0.4795\n",
            "Epoch 5/100\n",
            "9/9 [==============================] - 5s 544ms/step - loss: 7.5136 - accuracy: 0.7041 - val_loss: 9.4282 - val_accuracy: 0.4795\n",
            "Epoch 6/100\n",
            "9/9 [==============================] - 5s 544ms/step - loss: 7.0489 - accuracy: 0.7219 - val_loss: 10.5897 - val_accuracy: 0.4795\n",
            "Epoch 7/100\n",
            "9/9 [==============================] - 5s 540ms/step - loss: 0.5695 - accuracy: 0.8462 - val_loss: 10.8833 - val_accuracy: 0.4795\n",
            "Epoch 8/100\n",
            "9/9 [==============================] - 5s 549ms/step - loss: 1.0734 - accuracy: 0.7751 - val_loss: 11.6469 - val_accuracy: 0.4795\n",
            "Epoch 9/100\n",
            "9/9 [==============================] - 5s 551ms/step - loss: 1.2477 - accuracy: 0.8343 - val_loss: 10.8319 - val_accuracy: 0.4795\n",
            "Epoch 10/100\n",
            "9/9 [==============================] - 5s 543ms/step - loss: 0.9434 - accuracy: 0.8639 - val_loss: 12.5870 - val_accuracy: 0.4795\n",
            "Epoch 11/100\n",
            "9/9 [==============================] - 5s 543ms/step - loss: 0.5136 - accuracy: 0.8639 - val_loss: 10.4419 - val_accuracy: 0.4795\n",
            "Epoch 12/100\n",
            "9/9 [==============================] - 5s 544ms/step - loss: 0.0634 - accuracy: 0.9822 - val_loss: 10.5230 - val_accuracy: 0.4795\n",
            "Epoch 13/100\n",
            "9/9 [==============================] - 5s 552ms/step - loss: 0.0786 - accuracy: 0.9704 - val_loss: 11.0192 - val_accuracy: 0.4795\n",
            "Epoch 14/100\n",
            "9/9 [==============================] - 5s 547ms/step - loss: 0.0796 - accuracy: 0.9645 - val_loss: 11.3444 - val_accuracy: 0.4795\n",
            "Epoch 15/100\n",
            "9/9 [==============================] - 5s 554ms/step - loss: 0.1284 - accuracy: 0.9586 - val_loss: 10.2517 - val_accuracy: 0.4795\n",
            "Epoch 16/100\n",
            "9/9 [==============================] - 5s 551ms/step - loss: 0.0121 - accuracy: 1.0000 - val_loss: 10.0207 - val_accuracy: 0.4795\n",
            "Epoch 17/100\n",
            "9/9 [==============================] - 5s 554ms/step - loss: 0.0016 - accuracy: 1.0000 - val_loss: 10.0279 - val_accuracy: 0.4795\n",
            "Epoch 18/100\n",
            "9/9 [==============================] - 5s 547ms/step - loss: 0.0012 - accuracy: 1.0000 - val_loss: 9.7694 - val_accuracy: 0.4795\n",
            "Epoch 19/100\n",
            "9/9 [==============================] - 5s 550ms/step - loss: 0.0019 - accuracy: 1.0000 - val_loss: 9.6282 - val_accuracy: 0.4795\n",
            "Epoch 20/100\n",
            "9/9 [==============================] - 5s 544ms/step - loss: 0.0024 - accuracy: 1.0000 - val_loss: 9.0036 - val_accuracy: 0.4795\n",
            "Epoch 21/100\n",
            "9/9 [==============================] - 5s 549ms/step - loss: 0.0019 - accuracy: 1.0000 - val_loss: 9.0631 - val_accuracy: 0.4795\n",
            "Epoch 22/100\n",
            "9/9 [==============================] - 5s 546ms/step - loss: 0.0012 - accuracy: 1.0000 - val_loss: 8.8126 - val_accuracy: 0.4795\n",
            "Epoch 23/100\n",
            "9/9 [==============================] - 5s 547ms/step - loss: 0.0011 - accuracy: 1.0000 - val_loss: 8.2541 - val_accuracy: 0.4795\n",
            "Epoch 24/100\n",
            "9/9 [==============================] - 5s 552ms/step - loss: 0.0022 - accuracy: 1.0000 - val_loss: 8.5106 - val_accuracy: 0.4795\n",
            "Epoch 25/100\n",
            "9/9 [==============================] - 5s 621ms/step - loss: 0.0036 - accuracy: 1.0000 - val_loss: 7.5181 - val_accuracy: 0.4795\n",
            "Epoch 26/100\n",
            "9/9 [==============================] - 5s 545ms/step - loss: 0.0015 - accuracy: 1.0000 - val_loss: 7.1058 - val_accuracy: 0.4795\n",
            "Epoch 27/100\n",
            "9/9 [==============================] - 5s 555ms/step - loss: 0.0022 - accuracy: 1.0000 - val_loss: 6.6866 - val_accuracy: 0.4795\n",
            "Epoch 28/100\n",
            "9/9 [==============================] - 5s 551ms/step - loss: 0.0015 - accuracy: 1.0000 - val_loss: 5.9850 - val_accuracy: 0.4795\n",
            "Epoch 29/100\n",
            "9/9 [==============================] - 5s 545ms/step - loss: 0.0013 - accuracy: 1.0000 - val_loss: 5.4587 - val_accuracy: 0.4795\n",
            "Epoch 30/100\n",
            "9/9 [==============================] - 5s 549ms/step - loss: 0.0021 - accuracy: 1.0000 - val_loss: 5.1660 - val_accuracy: 0.4795\n",
            "Epoch 31/100\n",
            "9/9 [==============================] - 5s 554ms/step - loss: 0.0859 - accuracy: 0.9527 - val_loss: 1.9328 - val_accuracy: 0.7260\n",
            "Epoch 32/100\n",
            "9/9 [==============================] - 5s 546ms/step - loss: 10.8934 - accuracy: 0.7456 - val_loss: 4.6280 - val_accuracy: 0.7260\n",
            "Epoch 33/100\n",
            "9/9 [==============================] - 5s 549ms/step - loss: 9.0585 - accuracy: 0.6864 - val_loss: 0.6267 - val_accuracy: 0.8082\n",
            "Epoch 34/100\n",
            "9/9 [==============================] - 5s 550ms/step - loss: 3.9237 - accuracy: 0.7041 - val_loss: 11.9615 - val_accuracy: 0.4795\n",
            "Epoch 35/100\n",
            "9/9 [==============================] - 5s 546ms/step - loss: 11.0809 - accuracy: 0.6805 - val_loss: 9.4990 - val_accuracy: 0.4795\n",
            "Epoch 36/100\n",
            "9/9 [==============================] - 5s 549ms/step - loss: 9.9850 - accuracy: 0.7041 - val_loss: 7.2673 - val_accuracy: 0.4795\n",
            "Epoch 37/100\n",
            "9/9 [==============================] - 5s 548ms/step - loss: 0.4914 - accuracy: 0.9172 - val_loss: 0.0722 - val_accuracy: 1.0000\n",
            "Epoch 38/100\n",
            "9/9 [==============================] - 5s 547ms/step - loss: 0.5594 - accuracy: 0.9231 - val_loss: 0.1350 - val_accuracy: 0.9452\n",
            "Epoch 39/100\n",
            "9/9 [==============================] - 5s 547ms/step - loss: 1.3526 - accuracy: 0.8817 - val_loss: 0.2203 - val_accuracy: 0.9315\n",
            "Epoch 40/100\n",
            "9/9 [==============================] - 5s 555ms/step - loss: 1.1977 - accuracy: 0.8521 - val_loss: 1.1414 - val_accuracy: 0.8082\n",
            "Epoch 41/100\n",
            "9/9 [==============================] - 5s 544ms/step - loss: 0.9598 - accuracy: 0.8994 - val_loss: 0.9148 - val_accuracy: 0.8356\n",
            "Epoch 42/100\n",
            "9/9 [==============================] - 5s 545ms/step - loss: 0.5854 - accuracy: 0.9053 - val_loss: 0.0353 - val_accuracy: 0.9726\n",
            "Epoch 43/100\n",
            "9/9 [==============================] - 5s 552ms/step - loss: 0.0907 - accuracy: 0.9586 - val_loss: 0.0065 - val_accuracy: 1.0000\n",
            "Epoch 44/100\n",
            "9/9 [==============================] - 5s 551ms/step - loss: 0.5472 - accuracy: 0.9408 - val_loss: 0.0074 - val_accuracy: 1.0000\n",
            "Epoch 45/100\n",
            "9/9 [==============================] - 5s 548ms/step - loss: 0.5463 - accuracy: 0.9467 - val_loss: 6.3035 - val_accuracy: 0.4795\n",
            "Epoch 46/100\n",
            "9/9 [==============================] - 5s 549ms/step - loss: 0.7871 - accuracy: 0.9172 - val_loss: 0.0019 - val_accuracy: 1.0000\n",
            "Epoch 47/100\n",
            "9/9 [==============================] - 5s 615ms/step - loss: 0.8685 - accuracy: 0.8876 - val_loss: 7.6810e-04 - val_accuracy: 1.0000\n",
            "Epoch 48/100\n",
            "9/9 [==============================] - 5s 546ms/step - loss: 1.4232 - accuracy: 0.8402 - val_loss: 0.0037 - val_accuracy: 1.0000\n",
            "Epoch 49/100\n",
            "9/9 [==============================] - 5s 545ms/step - loss: 0.3058 - accuracy: 0.9527 - val_loss: 1.1493 - val_accuracy: 0.8356\n",
            "Epoch 50/100\n",
            "9/9 [==============================] - 5s 554ms/step - loss: 1.4324 - accuracy: 0.8639 - val_loss: 4.6173 - val_accuracy: 0.7123\n",
            "Epoch 51/100\n",
            "9/9 [==============================] - 5s 544ms/step - loss: 2.1511 - accuracy: 0.8521 - val_loss: 0.9758 - val_accuracy: 0.9178\n",
            "Epoch 52/100\n",
            "9/9 [==============================] - 5s 553ms/step - loss: 0.4737 - accuracy: 0.9645 - val_loss: 1.1302 - val_accuracy: 0.5068\n",
            "Epoch 53/100\n",
            "9/9 [==============================] - 5s 553ms/step - loss: 0.0164 - accuracy: 0.9941 - val_loss: 1.8112e-04 - val_accuracy: 1.0000\n",
            "Epoch 54/100\n",
            "9/9 [==============================] - 5s 540ms/step - loss: 0.0024 - accuracy: 1.0000 - val_loss: 0.0391 - val_accuracy: 0.9726\n",
            "Epoch 55/100\n",
            "9/9 [==============================] - 5s 547ms/step - loss: 6.5314e-04 - accuracy: 1.0000 - val_loss: 3.3779e-05 - val_accuracy: 1.0000\n",
            "Epoch 56/100\n",
            "9/9 [==============================] - 5s 544ms/step - loss: 8.0065e-09 - accuracy: 1.0000 - val_loss: 1.2314e-05 - val_accuracy: 1.0000\n",
            "Epoch 57/100\n",
            "9/9 [==============================] - 5s 553ms/step - loss: 7.3687e-08 - accuracy: 1.0000 - val_loss: 5.5857e-05 - val_accuracy: 1.0000\n",
            "Epoch 58/100\n",
            "9/9 [==============================] - 5s 540ms/step - loss: 2.9308e-06 - accuracy: 1.0000 - val_loss: 1.1428e-04 - val_accuracy: 1.0000\n",
            "Epoch 59/100\n",
            "9/9 [==============================] - 5s 549ms/step - loss: 3.0475e-06 - accuracy: 1.0000 - val_loss: 1.6214e-04 - val_accuracy: 1.0000\n",
            "Epoch 60/100\n",
            "9/9 [==============================] - 5s 547ms/step - loss: 7.0281e-07 - accuracy: 1.0000 - val_loss: 1.9669e-04 - val_accuracy: 1.0000\n",
            "Epoch 61/100\n",
            "9/9 [==============================] - 5s 546ms/step - loss: 8.8848e-08 - accuracy: 1.0000 - val_loss: 2.2362e-04 - val_accuracy: 1.0000\n",
            "Epoch 62/100\n",
            "9/9 [==============================] - 5s 547ms/step - loss: 3.2015e-07 - accuracy: 1.0000 - val_loss: 2.4759e-04 - val_accuracy: 1.0000\n",
            "Epoch 63/100\n",
            "9/9 [==============================] - 5s 551ms/step - loss: 6.8835e-07 - accuracy: 1.0000 - val_loss: 2.6882e-04 - val_accuracy: 1.0000\n",
            "Epoch 64/100\n",
            "9/9 [==============================] - 5s 543ms/step - loss: 5.9729e-07 - accuracy: 1.0000 - val_loss: 2.8802e-04 - val_accuracy: 1.0000\n",
            "Epoch 65/100\n",
            "9/9 [==============================] - 5s 551ms/step - loss: 1.2697e-06 - accuracy: 1.0000 - val_loss: 3.1167e-04 - val_accuracy: 1.0000\n",
            "Epoch 66/100\n",
            "9/9 [==============================] - 5s 542ms/step - loss: 1.2310e-07 - accuracy: 1.0000 - val_loss: 3.4093e-04 - val_accuracy: 1.0000\n",
            "Epoch 67/100\n",
            "9/9 [==============================] - 5s 545ms/step - loss: 2.7663e-07 - accuracy: 1.0000 - val_loss: 3.7160e-04 - val_accuracy: 1.0000\n",
            "Epoch 68/100\n",
            "9/9 [==============================] - 5s 548ms/step - loss: 2.2616e-06 - accuracy: 1.0000 - val_loss: 4.0345e-04 - val_accuracy: 1.0000\n",
            "Epoch 69/100\n",
            "9/9 [==============================] - 5s 551ms/step - loss: 2.1694e-07 - accuracy: 1.0000 - val_loss: 4.3723e-04 - val_accuracy: 1.0000\n",
            "Epoch 70/100\n",
            "9/9 [==============================] - 5s 554ms/step - loss: 3.7879e-06 - accuracy: 1.0000 - val_loss: 4.7778e-04 - val_accuracy: 1.0000\n",
            "Epoch 71/100\n",
            "9/9 [==============================] - 5s 548ms/step - loss: 1.2617e-07 - accuracy: 1.0000 - val_loss: 5.1752e-04 - val_accuracy: 1.0000\n",
            "Epoch 72/100\n",
            "9/9 [==============================] - 5s 548ms/step - loss: 2.5336e-06 - accuracy: 1.0000 - val_loss: 5.5071e-04 - val_accuracy: 1.0000\n",
            "Epoch 73/100\n",
            "9/9 [==============================] - 5s 544ms/step - loss: 6.2216e-06 - accuracy: 1.0000 - val_loss: 5.6775e-04 - val_accuracy: 1.0000\n",
            "Epoch 74/100\n",
            "9/9 [==============================] - 5s 553ms/step - loss: 9.5578e-07 - accuracy: 1.0000 - val_loss: 5.8092e-04 - val_accuracy: 1.0000\n",
            "Epoch 75/100\n",
            "9/9 [==============================] - 5s 546ms/step - loss: 5.7792e-08 - accuracy: 1.0000 - val_loss: 5.9922e-04 - val_accuracy: 1.0000\n",
            "Epoch 76/100\n",
            "9/9 [==============================] - 5s 559ms/step - loss: 5.0082e-08 - accuracy: 1.0000 - val_loss: 6.2039e-04 - val_accuracy: 1.0000\n",
            "Epoch 77/100\n",
            "9/9 [==============================] - 5s 548ms/step - loss: 3.4094e-07 - accuracy: 1.0000 - val_loss: 6.4105e-04 - val_accuracy: 1.0000\n",
            "Epoch 78/100\n",
            "9/9 [==============================] - 5s 552ms/step - loss: 6.7472e-07 - accuracy: 1.0000 - val_loss: 6.6171e-04 - val_accuracy: 1.0000\n",
            "Epoch 79/100\n",
            "9/9 [==============================] - 5s 550ms/step - loss: 6.0655e-07 - accuracy: 1.0000 - val_loss: 6.8113e-04 - val_accuracy: 1.0000\n",
            "Epoch 80/100\n",
            "9/9 [==============================] - 5s 557ms/step - loss: 9.1153e-07 - accuracy: 1.0000 - val_loss: 7.0085e-04 - val_accuracy: 1.0000\n",
            "Epoch 81/100\n",
            "9/9 [==============================] - 5s 558ms/step - loss: 9.2554e-07 - accuracy: 1.0000 - val_loss: 7.1992e-04 - val_accuracy: 1.0000\n",
            "Epoch 82/100\n",
            "9/9 [==============================] - 5s 557ms/step - loss: 8.1782e-07 - accuracy: 1.0000 - val_loss: 7.3750e-04 - val_accuracy: 1.0000\n",
            "Epoch 83/100\n",
            "9/9 [==============================] - 5s 555ms/step - loss: 5.2908e-08 - accuracy: 1.0000 - val_loss: 7.5456e-04 - val_accuracy: 1.0000\n",
            "Epoch 84/100\n",
            "9/9 [==============================] - 5s 558ms/step - loss: 5.4706e-08 - accuracy: 1.0000 - val_loss: 7.7260e-04 - val_accuracy: 1.0000\n",
            "Epoch 85/100\n",
            "9/9 [==============================] - 5s 548ms/step - loss: 3.0436e-06 - accuracy: 1.0000 - val_loss: 7.7891e-04 - val_accuracy: 1.0000\n",
            "Epoch 86/100\n",
            "9/9 [==============================] - 5s 560ms/step - loss: 1.0181e-06 - accuracy: 1.0000 - val_loss: 7.8699e-04 - val_accuracy: 1.0000\n",
            "Epoch 87/100\n",
            "9/9 [==============================] - 5s 551ms/step - loss: 1.7052e-05 - accuracy: 1.0000 - val_loss: 7.7151e-04 - val_accuracy: 1.0000\n",
            "Epoch 88/100\n",
            "9/9 [==============================] - 5s 552ms/step - loss: 1.4570e-06 - accuracy: 1.0000 - val_loss: 6.4677e-04 - val_accuracy: 1.0000\n",
            "Epoch 89/100\n",
            "9/9 [==============================] - 5s 555ms/step - loss: 1.0635e-07 - accuracy: 1.0000 - val_loss: 6.0835e-04 - val_accuracy: 1.0000\n",
            "Epoch 90/100\n",
            "9/9 [==============================] - 5s 553ms/step - loss: 2.8608e-07 - accuracy: 1.0000 - val_loss: 5.9734e-04 - val_accuracy: 1.0000\n",
            "Epoch 91/100\n",
            "9/9 [==============================] - 5s 553ms/step - loss: 3.9501e-07 - accuracy: 1.0000 - val_loss: 5.9568e-04 - val_accuracy: 1.0000\n",
            "Epoch 92/100\n",
            "9/9 [==============================] - 5s 551ms/step - loss: 1.0086e-07 - accuracy: 1.0000 - val_loss: 5.9799e-04 - val_accuracy: 1.0000\n",
            "Epoch 93/100\n",
            "9/9 [==============================] - 5s 558ms/step - loss: 7.9371e-07 - accuracy: 1.0000 - val_loss: 5.9980e-04 - val_accuracy: 1.0000\n",
            "Epoch 94/100\n",
            "9/9 [==============================] - 5s 546ms/step - loss: 7.6827e-07 - accuracy: 1.0000 - val_loss: 6.0173e-04 - val_accuracy: 1.0000\n",
            "Epoch 95/100\n",
            "9/9 [==============================] - 5s 558ms/step - loss: 4.2415e-08 - accuracy: 1.0000 - val_loss: 6.0375e-04 - val_accuracy: 1.0000\n",
            "Epoch 96/100\n",
            "9/9 [==============================] - 5s 561ms/step - loss: 2.3286e-08 - accuracy: 1.0000 - val_loss: 6.0727e-04 - val_accuracy: 1.0000\n",
            "Epoch 97/100\n",
            "9/9 [==============================] - 5s 572ms/step - loss: 1.0393e-06 - accuracy: 1.0000 - val_loss: 6.0986e-04 - val_accuracy: 1.0000\n",
            "Epoch 98/100\n",
            "9/9 [==============================] - 5s 557ms/step - loss: 4.7665e-07 - accuracy: 1.0000 - val_loss: 6.0962e-04 - val_accuracy: 1.0000\n",
            "Epoch 99/100\n",
            "9/9 [==============================] - 5s 562ms/step - loss: 1.9100e-07 - accuracy: 1.0000 - val_loss: 6.1012e-04 - val_accuracy: 1.0000\n",
            "Epoch 100/100\n",
            "9/9 [==============================] - 5s 554ms/step - loss: 1.8741e-07 - accuracy: 1.0000 - val_loss: 6.1091e-04 - val_accuracy: 1.0000\n"
          ]
        }
      ]
    },
    {
      "cell_type": "code",
      "source": [
        "# Model Performance (Measurement = Accuracy)\n",
        "plt.plot(histroy.history['accuracy'])\n",
        "plt.plot(histroy.history['val_accuracy'])\n",
        "plt.title('model accuracy')\n",
        "plt.ylabel('accuracy')\n",
        "plt.xlabel('epoch')\n",
        "plt.legend(['train','test'], loc = 'lower right')\n",
        "plt.show()\n"
      ],
      "metadata": {
        "id": "ZL4fMEUaXvnu",
        "colab": {
          "base_uri": "https://localhost:8080/",
          "height": 295
        },
        "outputId": "d961ebac-58e4-4c01-e85f-6247c82950d2"
      },
      "execution_count": null,
      "outputs": [
        {
          "output_type": "display_data",
          "data": {
            "text/plain": [
              "<Figure size 432x288 with 1 Axes>"
            ],
            "image/png": "[encoded data removed]"
          },
          "metadata": {
            "needs_background": "light"
          }
        }
      ]
    },
    {
      "cell_type": "code",
      "source": [
        "from itertools import product"
      ],
      "metadata": {
        "id": "zkYkAtF1biQ8"
      },
      "execution_count": null,
      "outputs": []
    },
    {
      "cell_type": "code",
      "source": [
        "k_mer = []"
      ],
      "metadata": {
        "id": "HMKFJn6BOazW"
      },
      "execution_count": null,
      "outputs": []
    },
    {
      "cell_type": "code",
      "source": [
        "for i in product(['A', 'T', 'G', 'C', 'D'],repeat=3):\n",
        "    k_mer.append(''.join(i))\n",
        "    print(i, end=\" \")\n",
        "print(k_mer)"
      ],
      "metadata": {
        "colab": {
          "base_uri": "https://localhost:8080/"
        },
        "id": "LyLdfBDjNKMS",
        "outputId": "37bc5773-1751-4049-b7bc-13db94fe05f3"
      },
      "execution_count": null,
      "outputs": [
        {
          "output_type": "stream",
          "name": "stdout",
          "text": [
            "('A', 'A', 'A') ('A', 'A', 'T') ('A', 'A', 'G') ('A', 'A', 'C') ('A', 'A', 'D') ('A', 'T', 'A') ('A', 'T', 'T') ('A', 'T', 'G') ('A', 'T', 'C') ('A', 'T', 'D') ('A', 'G', 'A') ('A', 'G', 'T') ('A', 'G', 'G') ('A', 'G', 'C') ('A', 'G', 'D') ('A', 'C', 'A') ('A', 'C', 'T') ('A', 'C', 'G') ('A', 'C', 'C') ('A', 'C', 'D') ('A', 'D', 'A') ('A', 'D', 'T') ('A', 'D', 'G') ('A', 'D', 'C') ('A', 'D', 'D') ('T', 'A', 'A') ('T', 'A', 'T') ('T', 'A', 'G') ('T', 'A', 'C') ('T', 'A', 'D') ('T', 'T', 'A') ('T', 'T', 'T') ('T', 'T', 'G') ('T', 'T', 'C') ('T', 'T', 'D') ('T', 'G', 'A') ('T', 'G', 'T') ('T', 'G', 'G') ('T', 'G', 'C') ('T', 'G', 'D') ('T', 'C', 'A') ('T', 'C', 'T') ('T', 'C', 'G') ('T', 'C', 'C') ('T', 'C', 'D') ('T', 'D', 'A') ('T', 'D', 'T') ('T', 'D', 'G') ('T', 'D', 'C') ('T', 'D', 'D') ('G', 'A', 'A') ('G', 'A', 'T') ('G', 'A', 'G') ('G', 'A', 'C') ('G', 'A', 'D') ('G', 'T', 'A') ('G', 'T', 'T') ('G', 'T', 'G') ('G', 'T', 'C') ('G', 'T', 'D') ('G', 'G', 'A') ('G', 'G', 'T') ('G', 'G', 'G') ('G', 'G', 'C') ('G', 'G', 'D') ('G', 'C', 'A') ('G', 'C', 'T') ('G', 'C', 'G') ('G', 'C', 'C') ('G', 'C', 'D') ('G', 'D', 'A') ('G', 'D', 'T') ('G', 'D', 'G') ('G', 'D', 'C') ('G', 'D', 'D') ('C', 'A', 'A') ('C', 'A', 'T') ('C', 'A', 'G') ('C', 'A', 'C') ('C', 'A', 'D') ('C', 'T', 'A') ('C', 'T', 'T') ('C', 'T', 'G') ('C', 'T', 'C') ('C', 'T', 'D') ('C', 'G', 'A') ('C', 'G', 'T') ('C', 'G', 'G') ('C', 'G', 'C') ('C', 'G', 'D') ('C', 'C', 'A') ('C', 'C', 'T') ('C', 'C', 'G') ('C', 'C', 'C') ('C', 'C', 'D') ('C', 'D', 'A') ('C', 'D', 'T') ('C', 'D', 'G') ('C', 'D', 'C') ('C', 'D', 'D') ('D', 'A', 'A') ('D', 'A', 'T') ('D', 'A', 'G') ('D', 'A', 'C') ('D', 'A', 'D') ('D', 'T', 'A') ('D', 'T', 'T') ('D', 'T', 'G') ('D', 'T', 'C') ('D', 'T', 'D') ('D', 'G', 'A') ('D', 'G', 'T') ('D', 'G', 'G') ('D', 'G', 'C') ('D', 'G', 'D') ('D', 'C', 'A') ('D', 'C', 'T') ('D', 'C', 'G') ('D', 'C', 'C') ('D', 'C', 'D') ('D', 'D', 'A') ('D', 'D', 'T') ('D', 'D', 'G') ('D', 'D', 'C') ('D', 'D', 'D') ['AAA', 'AAT', 'AAG', 'AAC', 'AAD', 'ATA', 'ATT', 'ATG', 'ATC', 'ATD', 'AGA', 'AGT', 'AGG', 'AGC', 'AGD', 'ACA', 'ACT', 'ACG', 'ACC', 'ACD', 'ADA', 'ADT', 'ADG', 'ADC', 'ADD', 'TAA', 'TAT', 'TAG', 'TAC', 'TAD', 'TTA', 'TTT', 'TTG', 'TTC', 'TTD', 'TGA', 'TGT', 'TGG', 'TGC', 'TGD', 'TCA', 'TCT', 'TCG', 'TCC', 'TCD', 'TDA', 'TDT', 'TDG', 'TDC', 'TDD', 'GAA', 'GAT', 'GAG', 'GAC', 'GAD', 'GTA', 'GTT', 'GTG', 'GTC', 'GTD', 'GGA', 'GGT', 'GGG', 'GGC', 'GGD', 'GCA', 'GCT', 'GCG', 'GCC', 'GCD', 'GDA', 'GDT', 'GDG', 'GDC', 'GDD', 'CAA', 'CAT', 'CAG', 'CAC', 'CAD', 'CTA', 'CTT', 'CTG', 'CTC', 'CTD', 'CGA', 'CGT', 'CGG', 'CGC', 'CGD', 'CCA', 'CCT', 'CCG', 'CCC', 'CCD', 'CDA', 'CDT', 'CDG', 'CDC', 'CDD', 'DAA', 'DAT', 'DAG', 'DAC', 'DAD', 'DTA', 'DTT', 'DTG', 'DTC', 'DTD', 'DGA', 'DGT', 'DGG', 'DGC', 'DGD', 'DCA', 'DCT', 'DCG', 'DCC', 'DCD', 'DDA', 'DDT', 'DDG', 'DDC', 'DDD']\n"
          ]
        }
      ]
    },
    {
      "cell_type": "code",
      "source": [
        "for k in k_mer:\n",
        "  print(k, end= \" \")"
      ],
      "metadata": {
        "colab": {
          "base_uri": "https://localhost:8080/"
        },
        "id": "X684cycSPJAT",
        "outputId": "d9f53a4c-7bff-4fa0-aa07-82e1f1858135"
      },
      "execution_count": null,
      "outputs": [
        {
          "output_type": "stream",
          "name": "stdout",
          "text": [
            "AAA AAT AAG AAC AAD ATA ATT ATG ATC ATD AGA AGT AGG AGC AGD ACA ACT ACG ACC ACD ADA ADT ADG ADC ADD TAA TAT TAG TAC TAD TTA TTT TTG TTC TTD TGA TGT TGG TGC TGD TCA TCT TCG TCC TCD TDA TDT TDG TDC TDD GAA GAT GAG GAC GAD GTA GTT GTG GTC GTD GGA GGT GGG GGC GGD GCA GCT GCG GCC GCD GDA GDT GDG GDC GDD CAA CAT CAG CAC CAD CTA CTT CTG CTC CTD CGA CGT CGG CGC CGD CCA CCT CCG CCC CCD CDA CDT CDG CDC CDD DAA DAT DAG DAC DAD DTA DTT DTG DTC DTD DGA DGT DGG DGC DGD DCA DCT DCG DCC DCD DDA DDT DDG DDC DDD "
          ]
        }
      ]
    },
    {
      "cell_type": "code",
      "source": [
        "k_mer = pd.DataFrame(k_mer)"
      ],
      "metadata": {
        "id": "M1oE8kIAZtg9"
      },
      "execution_count": null,
      "outputs": []
    },
    {
      "cell_type": "code",
      "source": [
        "k_mer.head()"
      ],
      "metadata": {
        "colab": {
          "base_uri": "https://localhost:8080/",
          "height": 206
        },
        "id": "3fKDboE2aon9",
        "outputId": "026840cb-5730-48dd-bd0e-e69992e8d3e3"
      },
      "execution_count": null,
      "outputs": [
        {
          "output_type": "execute_result",
          "data": {
            "text/plain": [
              "     0\n",
              "0  AAA\n",
              "1  AAT\n",
              "2  AAG\n",
              "3  AAC\n",
              "4  AAD"
            ],
            "text/html": [
              "\n",
              "  <div id=\"df-47836c85-19e1-4658-a611-5c7d903b9d32\">\n",
              "    <div class=\"colab-df-container\">\n",
              "      <div>\n",
              "<style scoped>\n",
              "    .dataframe tbody tr th:only-of-type {\n",
              "        vertical-align: middle;\n",
              "    }\n",
              "\n",
              "    .dataframe tbody tr th {\n",
              "        vertical-align: top;\n",
              "    }\n",
              "\n",
              "    .dataframe thead th {\n",
              "        text-align: right;\n",
              "    }\n",
              "</style>\n",
              "<table border=\"1\" class=\"dataframe\">\n",
              "  <thead>\n",
              "    <tr style=\"text-align: right;\">\n",
              "      <th></th>\n",
              "      <th>0</th>\n",
              "    </tr>\n",
              "  </thead>\n",
              "  <tbody>\n",
              "    <tr>\n",
              "      <th>0</th>\n",
              "      <td>AAA</td>\n",
              "    </tr>\n",
              "    <tr>\n",
              "      <th>1</th>\n",
              "      <td>AAT</td>\n",
              "    </tr>\n",
              "    <tr>\n",
              "      <th>2</th>\n",
              "      <td>AAG</td>\n",
              "    </tr>\n",
              "    <tr>\n",
              "      <th>3</th>\n",
              "      <td>AAC</td>\n",
              "    </tr>\n",
              "    <tr>\n",
              "      <th>4</th>\n",
              "      <td>AAD</td>\n",
              "    </tr>\n",
              "  </tbody>\n",
              "</table>\n",
              "</div>\n",
              "      <button class=\"colab-df-convert\" onclick=\"convertToInteractive('df-47836c85-19e1-4658-a611-5c7d903b9d32')\"\n",
              "              title=\"Convert this dataframe to an interactive table.\"\n",
              "              style=\"display:none;\">\n",
              "        \n",
              "  <svg xmlns=\"http://www.w3.org/2000/svg\" height=\"24px\"viewBox=\"0 0 24 24\"\n",
              "       width=\"24px\">\n",
              "    <path d=\"M0 0h24v24H0V0z\" fill=\"none\"/>\n",
              "    <path d=\"M18.56 5.44l.94 2.06.94-2.06 2.06-.94-2.06-.94-.94-2.06-.94 2.06-2.06.94zm-11 1L8.5 8.5l.94-2.06 2.06-.94-2.06-.94L8.5 2.5l-.94 2.06-2.06.94zm10 10l.94 2.06.94-2.06 2.06-.94-2.06-.94-.94-2.06-.94 2.06-2.06.94z\"/><path d=\"M17.41 7.96l-1.37-1.37c-.4-.4-.92-.59-1.43-.59-.52 0-1.04.2-1.43.59L10.3 9.45l-7.72 7.72c-.78.78-.78 2.05 0 2.83L4 21.41c.39.39.9.59 1.41.59.51 0 1.02-.2 1.41-.59l7.78-7.78 2.81-2.81c.8-.78.8-2.07 0-2.86zM5.41 20L4 18.59l7.72-7.72 1.47 1.35L5.41 20z\"/>\n",
              "  </svg>\n",
              "      </button>\n",
              "      \n",
              "  <style>\n",
              "    .colab-df-container {\n",
              "      display:flex;\n",
              "      flex-wrap:wrap;\n",
              "      gap: 12px;\n",
              "    }\n",
              "\n",
              "    .colab-df-convert {\n",
              "      background-color: #E8F0FE;\n",
              "      border: none;\n",
              "      border-radius: 50%;\n",
              "      cursor: pointer;\n",
              "      display: none;\n",
              "      fill: #1967D2;\n",
              "      height: 32px;\n",
              "      padding: 0 0 0 0;\n",
              "      width: 32px;\n",
              "    }\n",
              "\n",
              "    .colab-df-convert:hover {\n",
              "      background-color: #E2EBFA;\n",
              "      box-shadow: 0px 1px 2px rgba(60, 64, 67, 0.3), 0px 1px 3px 1px rgba(60, 64, 67, 0.15);\n",
              "      fill: #174EA6;\n",
              "    }\n",
              "\n",
              "    [theme=dark] .colab-df-convert {\n",
              "      background-color: #3B4455;\n",
              "      fill: #D2E3FC;\n",
              "    }\n",
              "\n",
              "    [theme=dark] .colab-df-convert:hover {\n",
              "      background-color: #434B5C;\n",
              "      box-shadow: 0px 1px 3px 1px rgba(0, 0, 0, 0.15);\n",
              "      filter: drop-shadow(0px 1px 2px rgba(0, 0, 0, 0.3));\n",
              "      fill: #FFFFFF;\n",
              "    }\n",
              "  </style>\n",
              "\n",
              "      <script>\n",
              "        const buttonEl =\n",
              "          document.querySelector('#df-47836c85-19e1-4658-a611-5c7d903b9d32 button.colab-df-convert');\n",
              "        buttonEl.style.display =\n",
              "          google.colab.kernel.accessAllowed ? 'block' : 'none';\n",
              "\n",
              "        async function convertToInteractive(key) {\n",
              "          const element = document.querySelector('#df-47836c85-19e1-4658-a611-5c7d903b9d32');\n",
              "          const dataTable =\n",
              "            await google.colab.kernel.invokeFunction('convertToInteractive',\n",
              "                                                     [key], {});\n",
              "          if (!dataTable) return;\n",
              "\n",
              "          const docLinkHtml = 'Like what you see? Visit the ' +\n",
              "            '<a target=\"_blank\" href=https://colab.research.google.com/notebooks/data_table.ipynb>data table notebook</a>'\n",
              "            + ' to learn more about interactive tables.';\n",
              "          element.innerHTML = '';\n",
              "          dataTable['output_type'] = 'display_data';\n",
              "          await google.colab.output.renderOutput(dataTable, element);\n",
              "          const docLink = document.createElement('div');\n",
              "          docLink.innerHTML = docLinkHtml;\n",
              "          element.appendChild(docLink);\n",
              "        }\n",
              "      </script>\n",
              "    </div>\n",
              "  </div>\n",
              "  "
            ]
          },
          "metadata": {},
          "execution_count": 69
        }
      ]
    },
    {
      "cell_type": "code",
      "source": [
        "from sklearn.preprocessing import OneHotEncoder"
      ],
      "metadata": {
        "id": "jLr78onEPO7f"
      },
      "execution_count": null,
      "outputs": []
    },
    {
      "cell_type": "code",
      "source": [
        "ohencoder = OneHotEncoder()\n",
        "ohencoder.fit(k_mer)\n",
        "print(ohencoder.transform(k_mer).toarray())"
      ],
      "metadata": {
        "colab": {
          "base_uri": "https://localhost:8080/"
        },
        "id": "bI46rzVUQaow",
        "outputId": "248dcf86-7a7d-4435-d24f-15c5c01a3ff8"
      },
      "execution_count": null,
      "outputs": [
        {
          "output_type": "stream",
          "name": "stdout",
          "text": [
            "[[1. 0. 0. ... 0. 0. 0.]\n",
            " [0. 0. 0. ... 0. 0. 0.]\n",
            " [0. 0. 0. ... 0. 0. 0.]\n",
            " ...\n",
            " [0. 0. 0. ... 0. 0. 0.]\n",
            " [0. 0. 0. ... 0. 0. 0.]\n",
            " [0. 0. 0. ... 0. 0. 0.]]\n"
          ]
        }
      ]
    },
    {
      "cell_type": "code",
      "source": [
        "ohencoder.categories_"
      ],
      "metadata": {
        "colab": {
          "base_uri": "https://localhost:8080/"
        },
        "id": "2fK1S9XuQuGY",
        "outputId": "f7c5b268-9290-48d3-cf8a-ffa425826179"
      },
      "execution_count": null,
      "outputs": [
        {
          "output_type": "execute_result",
          "data": {
            "text/plain": [
              "[array(['AAA', 'AAC', 'AAD', 'AAG', 'AAT', 'ACA', 'ACC', 'ACD', 'ACG',\n",
              "        'ACT', 'ADA', 'ADC', 'ADD', 'ADG', 'ADT', 'AGA', 'AGC', 'AGD',\n",
              "        'AGG', 'AGT', 'ATA', 'ATC', 'ATD', 'ATG', 'ATT', 'CAA', 'CAC',\n",
              "        'CAD', 'CAG', 'CAT', 'CCA', 'CCC', 'CCD', 'CCG', 'CCT', 'CDA',\n",
              "        'CDC', 'CDD', 'CDG', 'CDT', 'CGA', 'CGC', 'CGD', 'CGG', 'CGT',\n",
              "        'CTA', 'CTC', 'CTD', 'CTG', 'CTT', 'DAA', 'DAC', 'DAD', 'DAG',\n",
              "        'DAT', 'DCA', 'DCC', 'DCD', 'DCG', 'DCT', 'DDA', 'DDC', 'DDD',\n",
              "        'DDG', 'DDT', 'DGA', 'DGC', 'DGD', 'DGG', 'DGT', 'DTA', 'DTC',\n",
              "        'DTD', 'DTG', 'DTT', 'GAA', 'GAC', 'GAD', 'GAG', 'GAT', 'GCA',\n",
              "        'GCC', 'GCD', 'GCG', 'GCT', 'GDA', 'GDC', 'GDD', 'GDG', 'GDT',\n",
              "        'GGA', 'GGC', 'GGD', 'GGG', 'GGT', 'GTA', 'GTC', 'GTD', 'GTG',\n",
              "        'GTT', 'TAA', 'TAC', 'TAD', 'TAG', 'TAT', 'TCA', 'TCC', 'TCD',\n",
              "        'TCG', 'TCT', 'TDA', 'TDC', 'TDD', 'TDG', 'TDT', 'TGA', 'TGC',\n",
              "        'TGD', 'TGG', 'TGT', 'TTA', 'TTC', 'TTD', 'TTG', 'TTT'],\n",
              "       dtype=object)]"
            ]
          },
          "metadata": {},
          "execution_count": 72
        }
      ]
    },
    {
      "cell_type": "code",
      "source": [
        "k_mer_oh = ohencoder.transform(k_mer).toarray()"
      ],
      "metadata": {
        "id": "Yo6Ei2uEVeXo"
      },
      "execution_count": null,
      "outputs": []
    },
    {
      "cell_type": "code",
      "source": [
        "k_mer_dict = dict()\n",
        "for i in range(125):\n",
        "  k_mer_dict[k_mer[0][i]] = k_mer_oh[i]"
      ],
      "metadata": {
        "id": "K0LB-w1ZcmIk"
      },
      "execution_count": null,
      "outputs": []
    },
    {
      "cell_type": "code",
      "source": [
        "k_mer_dict['AAA']"
      ],
      "metadata": {
        "colab": {
          "base_uri": "https://localhost:8080/"
        },
        "id": "BDXsWj_kdriQ",
        "outputId": "ebfa91e6-956a-4ac2-afe4-1f3c2a042718"
      },
      "execution_count": null,
      "outputs": [
        {
          "output_type": "execute_result",
          "data": {
            "text/plain": [
              "array([1., 0., 0., 0., 0., 0., 0., 0., 0., 0., 0., 0., 0., 0., 0., 0., 0.,\n",
              "       0., 0., 0., 0., 0., 0., 0., 0., 0., 0., 0., 0., 0., 0., 0., 0., 0.,\n",
              "       0., 0., 0., 0., 0., 0., 0., 0., 0., 0., 0., 0., 0., 0., 0., 0., 0.,\n",
              "       0., 0., 0., 0., 0., 0., 0., 0., 0., 0., 0., 0., 0., 0., 0., 0., 0.,\n",
              "       0., 0., 0., 0., 0., 0., 0., 0., 0., 0., 0., 0., 0., 0., 0., 0., 0.,\n",
              "       0., 0., 0., 0., 0., 0., 0., 0., 0., 0., 0., 0., 0., 0., 0., 0., 0.,\n",
              "       0., 0., 0., 0., 0., 0., 0., 0., 0., 0., 0., 0., 0., 0., 0., 0., 0.,\n",
              "       0., 0., 0., 0., 0., 0.])"
            ]
          },
          "metadata": {},
          "execution_count": 93
        }
      ]
    },
    {
      "cell_type": "code",
      "source": [
        "print(ohencoder.transform(k_mer))"
      ],
      "metadata": {
        "colab": {
          "base_uri": "https://localhost:8080/"
        },
        "id": "FgSUSLWYa2r5",
        "outputId": "4e085ae4-064e-4c88-c6fc-ec6b6a9905e2"
      },
      "execution_count": null,
      "outputs": [
        {
          "output_type": "stream",
          "name": "stdout",
          "text": [
            "  (0, 0)\t1.0\n",
            "  (1, 4)\t1.0\n",
            "  (2, 3)\t1.0\n",
            "  (3, 1)\t1.0\n",
            "  (4, 2)\t1.0\n",
            "  (5, 20)\t1.0\n",
            "  (6, 24)\t1.0\n",
            "  (7, 23)\t1.0\n",
            "  (8, 21)\t1.0\n",
            "  (9, 22)\t1.0\n",
            "  (10, 15)\t1.0\n",
            "  (11, 19)\t1.0\n",
            "  (12, 18)\t1.0\n",
            "  (13, 16)\t1.0\n",
            "  (14, 17)\t1.0\n",
            "  (15, 5)\t1.0\n",
            "  (16, 9)\t1.0\n",
            "  (17, 8)\t1.0\n",
            "  (18, 6)\t1.0\n",
            "  (19, 7)\t1.0\n",
            "  (20, 10)\t1.0\n",
            "  (21, 14)\t1.0\n",
            "  (22, 13)\t1.0\n",
            "  (23, 11)\t1.0\n",
            "  (24, 12)\t1.0\n",
            "  :\t:\n",
            "  (100, 50)\t1.0\n",
            "  (101, 54)\t1.0\n",
            "  (102, 53)\t1.0\n",
            "  (103, 51)\t1.0\n",
            "  (104, 52)\t1.0\n",
            "  (105, 70)\t1.0\n",
            "  (106, 74)\t1.0\n",
            "  (107, 73)\t1.0\n",
            "  (108, 71)\t1.0\n",
            "  (109, 72)\t1.0\n",
            "  (110, 65)\t1.0\n",
            "  (111, 69)\t1.0\n",
            "  (112, 68)\t1.0\n",
            "  (113, 66)\t1.0\n",
            "  (114, 67)\t1.0\n",
            "  (115, 55)\t1.0\n",
            "  (116, 59)\t1.0\n",
            "  (117, 58)\t1.0\n",
            "  (118, 56)\t1.0\n",
            "  (119, 57)\t1.0\n",
            "  (120, 60)\t1.0\n",
            "  (121, 64)\t1.0\n",
            "  (122, 63)\t1.0\n",
            "  (123, 61)\t1.0\n",
            "  (124, 62)\t1.0\n"
          ]
        }
      ]
    },
    {
      "cell_type": "code",
      "source": [
        "print(ohencoder.transform(pd.DataFrame(['AAA', 'TTT'])).toarray())"
      ],
      "metadata": {
        "colab": {
          "base_uri": "https://localhost:8080/"
        },
        "id": "LF9ie6IgbxpJ",
        "outputId": "fe7c8f39-3c63-45c2-bbd0-cad79bd5f6ff"
      },
      "execution_count": null,
      "outputs": [
        {
          "output_type": "stream",
          "name": "stdout",
          "text": [
            "[[1. 0. 0. 0. 0. 0. 0. 0. 0. 0. 0. 0. 0. 0. 0. 0. 0. 0. 0. 0. 0. 0. 0. 0.\n",
            "  0. 0. 0. 0. 0. 0. 0. 0. 0. 0. 0. 0. 0. 0. 0. 0. 0. 0. 0. 0. 0. 0. 0. 0.\n",
            "  0. 0. 0. 0. 0. 0. 0. 0. 0. 0. 0. 0. 0. 0. 0. 0. 0. 0. 0. 0. 0. 0. 0. 0.\n",
            "  0. 0. 0. 0. 0. 0. 0. 0. 0. 0. 0. 0. 0. 0. 0. 0. 0. 0. 0. 0. 0. 0. 0. 0.\n",
            "  0. 0. 0. 0. 0. 0. 0. 0. 0. 0. 0. 0. 0. 0. 0. 0. 0. 0. 0. 0. 0. 0. 0. 0.\n",
            "  0. 0. 0. 0. 0.]\n",
            " [0. 0. 0. 0. 0. 0. 0. 0. 0. 0. 0. 0. 0. 0. 0. 0. 0. 0. 0. 0. 0. 0. 0. 0.\n",
            "  0. 0. 0. 0. 0. 0. 0. 0. 0. 0. 0. 0. 0. 0. 0. 0. 0. 0. 0. 0. 0. 0. 0. 0.\n",
            "  0. 0. 0. 0. 0. 0. 0. 0. 0. 0. 0. 0. 0. 0. 0. 0. 0. 0. 0. 0. 0. 0. 0. 0.\n",
            "  0. 0. 0. 0. 0. 0. 0. 0. 0. 0. 0. 0. 0. 0. 0. 0. 0. 0. 0. 0. 0. 0. 0. 0.\n",
            "  0. 0. 0. 0. 0. 0. 0. 0. 0. 0. 0. 0. 0. 0. 0. 0. 0. 0. 0. 0. 0. 0. 0. 0.\n",
            "  0. 0. 0. 0. 1.]]\n"
          ]
        }
      ]
    },
    {
      "cell_type": "code",
      "source": [
        ""
      ],
      "metadata": {
        "id": "DAxtild5b7z2"
      },
      "execution_count": null,
      "outputs": []
    }
  ]
}