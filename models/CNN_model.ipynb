{
  "nbformat": 4,
  "nbformat_minor": 0,
  "metadata": {
    "colab": {
      "name": "CNN_model.ipynb",
      "provenance": []
    },
    "kernelspec": {
      "name": "python3",
      "display_name": "Python 3"
    },
    "language_info": {
      "name": "python"
    }
  },
  "cells": [
    {
      "cell_type": "code",
      "execution_count": 2,
      "metadata": {
        "id": "X_OBwhfQ4Oiv"
      },
      "outputs": [],
      "source": [
        "import pandas as pd\n",
        "import numpy as np\n",
        "from sklearn.model_selection import train_test_split\n",
        "\n",
        "import matplotlib.pyplot as plt\n",
        "%matplotlib inline\n",
        "from os.path import join\n",
        "import tensorflow as tf\n",
        "from tensorflow.keras import layers, models, optimizers"
      ]
    },
    {
      "cell_type": "code",
      "source": [
        "def sequence_to_onehot(_datax):\n",
        "  res_list = []\n",
        "  for i in range(len(_datax)):\n",
        "    tmp =list()\n",
        "    mapping = {\"A\":[1., 0., 0., 0.], \"C\": [0., 1., 0., 0.], \"G\": [1., 0., 0., 0.], \"T\":[0., 0., 0., 1.]}\n",
        "    for j in _datax[i]:\n",
        "      tmp.append(mapping[j]  if i in mapping.keys() else [0., 0., 0., 0.]) \n",
        "    res_list.append(np.array(tmp))\n",
        "  res_np = np.array(res_list)\n",
        "  return res_np"
      ],
      "metadata": {
        "id": "-tshrjIv9sj_"
      },
      "execution_count": 3,
      "outputs": []
    },
    {
      "cell_type": "code",
      "source": [
        "# data shuffle\n",
        "df_shuffled = pd.read_csv('data.csv').sample(frac=1).reset_index(drop=True)\n",
        "\n",
        "# x, y 분류. numpy로 변환 후 1차원으로 reshape, sequence onehot encoding\n",
        "datax = sequence_to_onehot(df_shuffled.iloc[:,[0,]].to_numpy().reshape(-1))\n",
        "datay = df_shuffled.iloc[:,[2,]].to_numpy().reshape(-1)\n"
      ],
      "metadata": {
        "id": "iarQFHEQ5Wza"
      },
      "execution_count": 4,
      "outputs": []
    },
    {
      "cell_type": "code",
      "source": [
        "print(datax.shape)"
      ],
      "metadata": {
        "colab": {
          "base_uri": "https://localhost:8080/"
        },
        "id": "PKBVARUi6vpB",
        "outputId": "90b5e99f-6193-400f-d9b2-765f25235d4c"
      },
      "execution_count": 5,
      "outputs": [
        {
          "output_type": "stream",
          "name": "stdout",
          "text": [
            "(242, 5600, 4)\n"
          ]
        }
      ]
    },
    {
      "cell_type": "code",
      "source": [
        "# Train, Test Split \n",
        "trnx, tstx, trny, tsty = train_test_split(datax, datay, test_size = 0.3, random_state =111)\n",
        "\n",
        "print(f\"Train = {trnx.shape[0]}개, Test = {tstx.shape[0]}개\")\n",
        "print(f\"trnx.shape = {trnx.shape}\")\n",
        "print(f\"tstx.shape = {tstx.shape}\")\n",
        "print(f\"trny.shape = {trny.shape}\")\n",
        "print(f\"tsty.shape = {tsty.shape}\")\n",
        "\n"
      ],
      "metadata": {
        "colab": {
          "base_uri": "https://localhost:8080/"
        },
        "id": "q-VdsF73AgpL",
        "outputId": "94c6275a-d200-45e1-9ad0-f1d528cacd68"
      },
      "execution_count": 6,
      "outputs": [
        {
          "output_type": "stream",
          "name": "stdout",
          "text": [
            "Train = 169개, Test = 73개\n",
            "trnx.shape = (169, 5600, 4)\n",
            "tstx.shape = (73, 5600, 4)\n",
            "trny.shape = (169,)\n",
            "tsty.shape = (73,)\n"
          ]
        }
      ]
    },
    {
      "cell_type": "code",
      "source": [
        "input_shape = (5600,4,1)\n",
        "cnn_model = models.Sequential()\n",
        "\n",
        "cnn_model.add(layers.Conv2D(16,(2,2), padding='same', input_shape=input_shape))\n",
        "cnn_model.add(layers.BatchNormalization())\n",
        "cnn_model.add(layers.Activation(\"relu\"))\n",
        "cnn_model.add(layers.MaxPooling2D((2,2)))\n",
        "\n",
        "cnn_model.add(layers.Conv2D(16,(2,2), padding='same'))\n",
        "cnn_model.add(layers.BatchNormalization())\n",
        "cnn_model.add(layers.Activation(\"relu\"))\n",
        "cnn_model.add(layers.Dropout(0.2))\n",
        "cnn_model.add(layers.MaxPooling2D((2,2)))\n",
        "\n",
        "cnn_model.add(layers.Flatten())\n",
        "\n",
        "cnn_model.add(layers.Dense(units = 128, activation = \"relu\"))\n",
        "cnn_model.add(layers.Dense(units = 1, activation = \"softmax\"))\n",
        "\n",
        "cnn_model.compile(optimizer = 'Adam', loss = 'categorical_crossentropy', metrics=['accuracy'])\n",
        "\n",
        "cnn_model.summary()"
      ],
      "metadata": {
        "colab": {
          "base_uri": "https://localhost:8080/"
        },
        "id": "3xt7StZmQh8E",
        "outputId": "cd215a88-f112-4358-9f93-7f47fa59d011"
      },
      "execution_count": 10,
      "outputs": [
        {
          "output_type": "stream",
          "name": "stdout",
          "text": [
            "Model: \"sequential_1\"\n",
            "_________________________________________________________________\n",
            " Layer (type)                Output Shape              Param #   \n",
            "=================================================================\n",
            " conv2d_2 (Conv2D)           (None, 5600, 4, 16)       80        \n",
            "                                                                 \n",
            " batch_normalization_2 (Batc  (None, 5600, 4, 16)      64        \n",
            " hNormalization)                                                 \n",
            "                                                                 \n",
            " activation_2 (Activation)   (None, 5600, 4, 16)       0         \n",
            "                                                                 \n",
            " max_pooling2d_2 (MaxPooling  (None, 2800, 2, 16)      0         \n",
            " 2D)                                                             \n",
            "                                                                 \n",
            " conv2d_3 (Conv2D)           (None, 2800, 2, 16)       1040      \n",
            "                                                                 \n",
            " batch_normalization_3 (Batc  (None, 2800, 2, 16)      64        \n",
            " hNormalization)                                                 \n",
            "                                                                 \n",
            " activation_3 (Activation)   (None, 2800, 2, 16)       0         \n",
            "                                                                 \n",
            " dropout_1 (Dropout)         (None, 2800, 2, 16)       0         \n",
            "                                                                 \n",
            " max_pooling2d_3 (MaxPooling  (None, 1400, 1, 16)      0         \n",
            " 2D)                                                             \n",
            "                                                                 \n",
            " flatten_1 (Flatten)         (None, 22400)             0         \n",
            "                                                                 \n",
            " dense_2 (Dense)             (None, 128)               2867328   \n",
            "                                                                 \n",
            " dense_3 (Dense)             (None, 1)                 129       \n",
            "                                                                 \n",
            "=================================================================\n",
            "Total params: 2,868,705\n",
            "Trainable params: 2,868,641\n",
            "Non-trainable params: 64\n",
            "_________________________________________________________________\n"
          ]
        }
      ]
    },
    {
      "cell_type": "code",
      "source": [
        "histroy = cnn_model.fit(trnx.reshape(-1,5600,4,1), trny, validation_data = [tstx.reshape(-1,5600,4,1),tsty], batch_size = 100, epochs = 100)"
      ],
      "metadata": {
        "colab": {
          "base_uri": "https://localhost:8080/"
        },
        "id": "1PX_55ZGXfJW",
        "outputId": "04f402ca-42cb-4dc7-eabd-0b061f7078ee"
      },
      "execution_count": 11,
      "outputs": [
        {
          "output_type": "stream",
          "name": "stdout",
          "text": [
            "Epoch 1/100\n",
            "2/2 [==============================] - 5s 3s/step - loss: 0.0000e+00 - accuracy: 0.5266 - val_loss: 0.0000e+00 - val_accuracy: 0.4521\n",
            "Epoch 2/100\n",
            "2/2 [==============================] - 5s 2s/step - loss: 0.0000e+00 - accuracy: 0.5266 - val_loss: 0.0000e+00 - val_accuracy: 0.4521\n",
            "Epoch 3/100\n",
            "2/2 [==============================] - 3s 1s/step - loss: 0.0000e+00 - accuracy: 0.5266 - val_loss: 0.0000e+00 - val_accuracy: 0.4521\n",
            "Epoch 4/100\n",
            "2/2 [==============================] - 3s 1s/step - loss: 0.0000e+00 - accuracy: 0.5266 - val_loss: 0.0000e+00 - val_accuracy: 0.4521\n",
            "Epoch 5/100\n",
            "2/2 [==============================] - 3s 1s/step - loss: 0.0000e+00 - accuracy: 0.5266 - val_loss: 0.0000e+00 - val_accuracy: 0.4521\n",
            "Epoch 6/100\n",
            "2/2 [==============================] - 3s 1s/step - loss: 0.0000e+00 - accuracy: 0.5266 - val_loss: 0.0000e+00 - val_accuracy: 0.4521\n",
            "Epoch 7/100\n",
            "2/2 [==============================] - 3s 1s/step - loss: 0.0000e+00 - accuracy: 0.5266 - val_loss: 0.0000e+00 - val_accuracy: 0.4521\n",
            "Epoch 8/100\n",
            "2/2 [==============================] - 3s 1s/step - loss: 0.0000e+00 - accuracy: 0.5266 - val_loss: 0.0000e+00 - val_accuracy: 0.4521\n",
            "Epoch 9/100\n",
            "2/2 [==============================] - 3s 1s/step - loss: 0.0000e+00 - accuracy: 0.5266 - val_loss: 0.0000e+00 - val_accuracy: 0.4521\n",
            "Epoch 10/100\n",
            "2/2 [==============================] - 3s 1s/step - loss: 0.0000e+00 - accuracy: 0.5266 - val_loss: 0.0000e+00 - val_accuracy: 0.4521\n",
            "Epoch 11/100\n",
            "2/2 [==============================] - 3s 1s/step - loss: 0.0000e+00 - accuracy: 0.5266 - val_loss: 0.0000e+00 - val_accuracy: 0.4521\n",
            "Epoch 12/100\n",
            "2/2 [==============================] - 3s 1s/step - loss: 0.0000e+00 - accuracy: 0.5266 - val_loss: 0.0000e+00 - val_accuracy: 0.4521\n",
            "Epoch 13/100\n",
            "2/2 [==============================] - 3s 1s/step - loss: 0.0000e+00 - accuracy: 0.5266 - val_loss: 0.0000e+00 - val_accuracy: 0.4521\n",
            "Epoch 14/100\n",
            "2/2 [==============================] - 3s 1s/step - loss: 0.0000e+00 - accuracy: 0.5266 - val_loss: 0.0000e+00 - val_accuracy: 0.4521\n",
            "Epoch 15/100\n",
            "2/2 [==============================] - 3s 1s/step - loss: 0.0000e+00 - accuracy: 0.5266 - val_loss: 0.0000e+00 - val_accuracy: 0.4521\n",
            "Epoch 16/100\n",
            "2/2 [==============================] - 3s 1s/step - loss: 0.0000e+00 - accuracy: 0.5266 - val_loss: 0.0000e+00 - val_accuracy: 0.4521\n",
            "Epoch 17/100\n",
            "2/2 [==============================] - 3s 1s/step - loss: 0.0000e+00 - accuracy: 0.5266 - val_loss: 0.0000e+00 - val_accuracy: 0.4521\n",
            "Epoch 18/100\n",
            "2/2 [==============================] - 3s 1s/step - loss: 0.0000e+00 - accuracy: 0.5266 - val_loss: 0.0000e+00 - val_accuracy: 0.4521\n",
            "Epoch 19/100\n",
            "2/2 [==============================] - 3s 1s/step - loss: 0.0000e+00 - accuracy: 0.5266 - val_loss: 0.0000e+00 - val_accuracy: 0.4521\n",
            "Epoch 20/100\n",
            "2/2 [==============================] - 3s 1s/step - loss: 0.0000e+00 - accuracy: 0.5266 - val_loss: 0.0000e+00 - val_accuracy: 0.4521\n",
            "Epoch 21/100\n",
            "2/2 [==============================] - 3s 1s/step - loss: 0.0000e+00 - accuracy: 0.5266 - val_loss: 0.0000e+00 - val_accuracy: 0.4521\n",
            "Epoch 22/100\n",
            "2/2 [==============================] - 3s 1s/step - loss: 0.0000e+00 - accuracy: 0.5266 - val_loss: 0.0000e+00 - val_accuracy: 0.4521\n",
            "Epoch 23/100\n",
            "2/2 [==============================] - 3s 1s/step - loss: 0.0000e+00 - accuracy: 0.5266 - val_loss: 0.0000e+00 - val_accuracy: 0.4521\n",
            "Epoch 24/100\n",
            "2/2 [==============================] - 3s 1s/step - loss: 0.0000e+00 - accuracy: 0.5266 - val_loss: 0.0000e+00 - val_accuracy: 0.4521\n",
            "Epoch 25/100\n",
            "2/2 [==============================] - 3s 1s/step - loss: 0.0000e+00 - accuracy: 0.5266 - val_loss: 0.0000e+00 - val_accuracy: 0.4521\n",
            "Epoch 26/100\n",
            "2/2 [==============================] - 3s 1s/step - loss: 0.0000e+00 - accuracy: 0.5266 - val_loss: 0.0000e+00 - val_accuracy: 0.4521\n",
            "Epoch 27/100\n",
            "2/2 [==============================] - 3s 1s/step - loss: 0.0000e+00 - accuracy: 0.5266 - val_loss: 0.0000e+00 - val_accuracy: 0.4521\n",
            "Epoch 28/100\n",
            "2/2 [==============================] - 3s 1s/step - loss: 0.0000e+00 - accuracy: 0.5266 - val_loss: 0.0000e+00 - val_accuracy: 0.4521\n",
            "Epoch 29/100\n",
            "2/2 [==============================] - 3s 1s/step - loss: 0.0000e+00 - accuracy: 0.5266 - val_loss: 0.0000e+00 - val_accuracy: 0.4521\n",
            "Epoch 30/100\n",
            "2/2 [==============================] - 3s 1s/step - loss: 0.0000e+00 - accuracy: 0.5266 - val_loss: 0.0000e+00 - val_accuracy: 0.4521\n",
            "Epoch 31/100\n",
            "2/2 [==============================] - 3s 1s/step - loss: 0.0000e+00 - accuracy: 0.5266 - val_loss: 0.0000e+00 - val_accuracy: 0.4521\n",
            "Epoch 32/100\n",
            "2/2 [==============================] - 3s 1s/step - loss: 0.0000e+00 - accuracy: 0.5266 - val_loss: 0.0000e+00 - val_accuracy: 0.4521\n",
            "Epoch 33/100\n",
            "2/2 [==============================] - 3s 1s/step - loss: 0.0000e+00 - accuracy: 0.5266 - val_loss: 0.0000e+00 - val_accuracy: 0.4521\n",
            "Epoch 34/100\n",
            "2/2 [==============================] - 3s 1s/step - loss: 0.0000e+00 - accuracy: 0.5266 - val_loss: 0.0000e+00 - val_accuracy: 0.4521\n",
            "Epoch 35/100\n",
            "2/2 [==============================] - 3s 1s/step - loss: 0.0000e+00 - accuracy: 0.5266 - val_loss: 0.0000e+00 - val_accuracy: 0.4521\n",
            "Epoch 36/100\n",
            "2/2 [==============================] - 3s 1s/step - loss: 0.0000e+00 - accuracy: 0.5266 - val_loss: 0.0000e+00 - val_accuracy: 0.4521\n",
            "Epoch 37/100\n",
            "2/2 [==============================] - 3s 1s/step - loss: 0.0000e+00 - accuracy: 0.5266 - val_loss: 0.0000e+00 - val_accuracy: 0.4521\n",
            "Epoch 38/100\n",
            "2/2 [==============================] - 3s 2s/step - loss: 0.0000e+00 - accuracy: 0.5266 - val_loss: 0.0000e+00 - val_accuracy: 0.4521\n",
            "Epoch 39/100\n",
            "2/2 [==============================] - 3s 1s/step - loss: 0.0000e+00 - accuracy: 0.5266 - val_loss: 0.0000e+00 - val_accuracy: 0.4521\n",
            "Epoch 40/100\n",
            "2/2 [==============================] - 3s 1s/step - loss: 0.0000e+00 - accuracy: 0.5266 - val_loss: 0.0000e+00 - val_accuracy: 0.4521\n",
            "Epoch 41/100\n",
            "2/2 [==============================] - 3s 1s/step - loss: 0.0000e+00 - accuracy: 0.5266 - val_loss: 0.0000e+00 - val_accuracy: 0.4521\n",
            "Epoch 42/100\n",
            "2/2 [==============================] - 3s 1s/step - loss: 0.0000e+00 - accuracy: 0.5266 - val_loss: 0.0000e+00 - val_accuracy: 0.4521\n",
            "Epoch 43/100\n",
            "2/2 [==============================] - 3s 1s/step - loss: 0.0000e+00 - accuracy: 0.5266 - val_loss: 0.0000e+00 - val_accuracy: 0.4521\n",
            "Epoch 44/100\n",
            "2/2 [==============================] - 3s 1s/step - loss: 0.0000e+00 - accuracy: 0.5266 - val_loss: 0.0000e+00 - val_accuracy: 0.4521\n",
            "Epoch 45/100\n",
            "2/2 [==============================] - 3s 1s/step - loss: 0.0000e+00 - accuracy: 0.5266 - val_loss: 0.0000e+00 - val_accuracy: 0.4521\n",
            "Epoch 46/100\n",
            "2/2 [==============================] - 3s 1s/step - loss: 0.0000e+00 - accuracy: 0.5266 - val_loss: 0.0000e+00 - val_accuracy: 0.4521\n",
            "Epoch 47/100\n",
            "2/2 [==============================] - 3s 1s/step - loss: 0.0000e+00 - accuracy: 0.5266 - val_loss: 0.0000e+00 - val_accuracy: 0.4521\n",
            "Epoch 48/100\n",
            "2/2 [==============================] - 3s 1s/step - loss: 0.0000e+00 - accuracy: 0.5266 - val_loss: 0.0000e+00 - val_accuracy: 0.4521\n",
            "Epoch 49/100\n",
            "2/2 [==============================] - 3s 1s/step - loss: 0.0000e+00 - accuracy: 0.5266 - val_loss: 0.0000e+00 - val_accuracy: 0.4521\n",
            "Epoch 50/100\n",
            "2/2 [==============================] - 3s 1s/step - loss: 0.0000e+00 - accuracy: 0.5266 - val_loss: 0.0000e+00 - val_accuracy: 0.4521\n",
            "Epoch 51/100\n",
            "2/2 [==============================] - 3s 1s/step - loss: 0.0000e+00 - accuracy: 0.5266 - val_loss: 0.0000e+00 - val_accuracy: 0.4521\n",
            "Epoch 52/100\n",
            "2/2 [==============================] - 3s 1s/step - loss: 0.0000e+00 - accuracy: 0.5266 - val_loss: 0.0000e+00 - val_accuracy: 0.4521\n",
            "Epoch 53/100\n",
            "2/2 [==============================] - 3s 1s/step - loss: 0.0000e+00 - accuracy: 0.5266 - val_loss: 0.0000e+00 - val_accuracy: 0.4521\n",
            "Epoch 54/100\n",
            "2/2 [==============================] - 3s 1s/step - loss: 0.0000e+00 - accuracy: 0.5266 - val_loss: 0.0000e+00 - val_accuracy: 0.4521\n",
            "Epoch 55/100\n",
            "2/2 [==============================] - 3s 1s/step - loss: 0.0000e+00 - accuracy: 0.5266 - val_loss: 0.0000e+00 - val_accuracy: 0.4521\n",
            "Epoch 56/100\n",
            "2/2 [==============================] - 3s 1s/step - loss: 0.0000e+00 - accuracy: 0.5266 - val_loss: 0.0000e+00 - val_accuracy: 0.4521\n",
            "Epoch 57/100\n",
            "2/2 [==============================] - 3s 1s/step - loss: 0.0000e+00 - accuracy: 0.5266 - val_loss: 0.0000e+00 - val_accuracy: 0.4521\n",
            "Epoch 58/100\n",
            "2/2 [==============================] - 3s 1s/step - loss: 0.0000e+00 - accuracy: 0.5266 - val_loss: 0.0000e+00 - val_accuracy: 0.4521\n",
            "Epoch 59/100\n",
            "2/2 [==============================] - 3s 1s/step - loss: 0.0000e+00 - accuracy: 0.5266 - val_loss: 0.0000e+00 - val_accuracy: 0.4521\n",
            "Epoch 60/100\n",
            "2/2 [==============================] - 3s 1s/step - loss: 0.0000e+00 - accuracy: 0.5266 - val_loss: 0.0000e+00 - val_accuracy: 0.4521\n",
            "Epoch 61/100\n",
            "2/2 [==============================] - 3s 1s/step - loss: 0.0000e+00 - accuracy: 0.5266 - val_loss: 0.0000e+00 - val_accuracy: 0.4521\n",
            "Epoch 62/100\n",
            "2/2 [==============================] - 3s 1s/step - loss: 0.0000e+00 - accuracy: 0.5266 - val_loss: 0.0000e+00 - val_accuracy: 0.4521\n",
            "Epoch 63/100\n",
            "2/2 [==============================] - 3s 1s/step - loss: 0.0000e+00 - accuracy: 0.5266 - val_loss: 0.0000e+00 - val_accuracy: 0.4521\n",
            "Epoch 64/100\n",
            "2/2 [==============================] - 6s 3s/step - loss: 0.0000e+00 - accuracy: 0.5266 - val_loss: 0.0000e+00 - val_accuracy: 0.4521\n",
            "Epoch 65/100\n",
            "2/2 [==============================] - 4s 2s/step - loss: 0.0000e+00 - accuracy: 0.5266 - val_loss: 0.0000e+00 - val_accuracy: 0.4521\n",
            "Epoch 66/100\n",
            "2/2 [==============================] - 3s 2s/step - loss: 0.0000e+00 - accuracy: 0.5266 - val_loss: 0.0000e+00 - val_accuracy: 0.4521\n",
            "Epoch 67/100\n",
            "2/2 [==============================] - 4s 2s/step - loss: 0.0000e+00 - accuracy: 0.5266 - val_loss: 0.0000e+00 - val_accuracy: 0.4521\n",
            "Epoch 68/100\n",
            "2/2 [==============================] - 3s 1s/step - loss: 0.0000e+00 - accuracy: 0.5266 - val_loss: 0.0000e+00 - val_accuracy: 0.4521\n",
            "Epoch 69/100\n",
            "2/2 [==============================] - 3s 2s/step - loss: 0.0000e+00 - accuracy: 0.5266 - val_loss: 0.0000e+00 - val_accuracy: 0.4521\n",
            "Epoch 70/100\n",
            "2/2 [==============================] - 3s 1s/step - loss: 0.0000e+00 - accuracy: 0.5266 - val_loss: 0.0000e+00 - val_accuracy: 0.4521\n",
            "Epoch 71/100\n",
            "2/2 [==============================] - 3s 1s/step - loss: 0.0000e+00 - accuracy: 0.5266 - val_loss: 0.0000e+00 - val_accuracy: 0.4521\n",
            "Epoch 72/100\n",
            "2/2 [==============================] - 3s 1s/step - loss: 0.0000e+00 - accuracy: 0.5266 - val_loss: 0.0000e+00 - val_accuracy: 0.4521\n",
            "Epoch 73/100\n",
            "2/2 [==============================] - 3s 1s/step - loss: 0.0000e+00 - accuracy: 0.5266 - val_loss: 0.0000e+00 - val_accuracy: 0.4521\n",
            "Epoch 74/100\n",
            "2/2 [==============================] - 3s 1s/step - loss: 0.0000e+00 - accuracy: 0.5266 - val_loss: 0.0000e+00 - val_accuracy: 0.4521\n",
            "Epoch 75/100\n",
            "2/2 [==============================] - 3s 1s/step - loss: 0.0000e+00 - accuracy: 0.5266 - val_loss: 0.0000e+00 - val_accuracy: 0.4521\n",
            "Epoch 76/100\n",
            "2/2 [==============================] - 3s 2s/step - loss: 0.0000e+00 - accuracy: 0.5266 - val_loss: 0.0000e+00 - val_accuracy: 0.4521\n",
            "Epoch 77/100\n",
            "2/2 [==============================] - 3s 1s/step - loss: 0.0000e+00 - accuracy: 0.5266 - val_loss: 0.0000e+00 - val_accuracy: 0.4521\n",
            "Epoch 78/100\n",
            "2/2 [==============================] - 3s 1s/step - loss: 0.0000e+00 - accuracy: 0.5266 - val_loss: 0.0000e+00 - val_accuracy: 0.4521\n",
            "Epoch 79/100\n",
            "2/2 [==============================] - 3s 1s/step - loss: 0.0000e+00 - accuracy: 0.5266 - val_loss: 0.0000e+00 - val_accuracy: 0.4521\n",
            "Epoch 80/100\n",
            "2/2 [==============================] - 3s 1s/step - loss: 0.0000e+00 - accuracy: 0.5266 - val_loss: 0.0000e+00 - val_accuracy: 0.4521\n",
            "Epoch 81/100\n",
            "2/2 [==============================] - 3s 1s/step - loss: 0.0000e+00 - accuracy: 0.5266 - val_loss: 0.0000e+00 - val_accuracy: 0.4521\n",
            "Epoch 82/100\n",
            "2/2 [==============================] - 3s 1s/step - loss: 0.0000e+00 - accuracy: 0.5266 - val_loss: 0.0000e+00 - val_accuracy: 0.4521\n",
            "Epoch 83/100\n",
            "2/2 [==============================] - 3s 1s/step - loss: 0.0000e+00 - accuracy: 0.5266 - val_loss: 0.0000e+00 - val_accuracy: 0.4521\n",
            "Epoch 84/100\n",
            "2/2 [==============================] - 3s 1s/step - loss: 0.0000e+00 - accuracy: 0.5266 - val_loss: 0.0000e+00 - val_accuracy: 0.4521\n",
            "Epoch 85/100\n",
            "2/2 [==============================] - 3s 1s/step - loss: 0.0000e+00 - accuracy: 0.5266 - val_loss: 0.0000e+00 - val_accuracy: 0.4521\n",
            "Epoch 86/100\n",
            "2/2 [==============================] - 3s 1s/step - loss: 0.0000e+00 - accuracy: 0.5266 - val_loss: 0.0000e+00 - val_accuracy: 0.4521\n",
            "Epoch 87/100\n",
            "2/2 [==============================] - 3s 1s/step - loss: 0.0000e+00 - accuracy: 0.5266 - val_loss: 0.0000e+00 - val_accuracy: 0.4521\n",
            "Epoch 88/100\n",
            "2/2 [==============================] - 3s 1s/step - loss: 0.0000e+00 - accuracy: 0.5266 - val_loss: 0.0000e+00 - val_accuracy: 0.4521\n",
            "Epoch 89/100\n",
            "2/2 [==============================] - 3s 1s/step - loss: 0.0000e+00 - accuracy: 0.5266 - val_loss: 0.0000e+00 - val_accuracy: 0.4521\n",
            "Epoch 90/100\n",
            "2/2 [==============================] - 3s 1s/step - loss: 0.0000e+00 - accuracy: 0.5266 - val_loss: 0.0000e+00 - val_accuracy: 0.4521\n",
            "Epoch 91/100\n",
            "2/2 [==============================] - 3s 1s/step - loss: 0.0000e+00 - accuracy: 0.5266 - val_loss: 0.0000e+00 - val_accuracy: 0.4521\n",
            "Epoch 92/100\n",
            "2/2 [==============================] - 3s 1s/step - loss: 0.0000e+00 - accuracy: 0.5266 - val_loss: 0.0000e+00 - val_accuracy: 0.4521\n",
            "Epoch 93/100\n",
            "2/2 [==============================] - 3s 1s/step - loss: 0.0000e+00 - accuracy: 0.5266 - val_loss: 0.0000e+00 - val_accuracy: 0.4521\n",
            "Epoch 94/100\n",
            "2/2 [==============================] - 3s 1s/step - loss: 0.0000e+00 - accuracy: 0.5266 - val_loss: 0.0000e+00 - val_accuracy: 0.4521\n",
            "Epoch 95/100\n",
            "2/2 [==============================] - 3s 1s/step - loss: 0.0000e+00 - accuracy: 0.5266 - val_loss: 0.0000e+00 - val_accuracy: 0.4521\n",
            "Epoch 96/100\n",
            "2/2 [==============================] - 3s 1s/step - loss: 0.0000e+00 - accuracy: 0.5266 - val_loss: 0.0000e+00 - val_accuracy: 0.4521\n",
            "Epoch 97/100\n",
            "2/2 [==============================] - 3s 1s/step - loss: 0.0000e+00 - accuracy: 0.5266 - val_loss: 0.0000e+00 - val_accuracy: 0.4521\n",
            "Epoch 98/100\n",
            "2/2 [==============================] - 3s 1s/step - loss: 0.0000e+00 - accuracy: 0.5266 - val_loss: 0.0000e+00 - val_accuracy: 0.4521\n",
            "Epoch 99/100\n",
            "2/2 [==============================] - 3s 1s/step - loss: 0.0000e+00 - accuracy: 0.5266 - val_loss: 0.0000e+00 - val_accuracy: 0.4521\n",
            "Epoch 100/100\n",
            "2/2 [==============================] - 3s 1s/step - loss: 0.0000e+00 - accuracy: 0.5266 - val_loss: 0.0000e+00 - val_accuracy: 0.4521\n"
          ]
        }
      ]
    },
    {
      "cell_type": "code",
      "source": [
        "# Model Performance (Measurement = Accuracy)\n",
        "plt.plot(histroy.history['accuracy'])\n",
        "plt.plot(histroy.history['val_accuracy'])\n",
        "plt.title('model accuracy')\n",
        "plt.ylabel('accuracy')\n",
        "plt.xlabel('epoch')\n",
        "plt.legend(['train','test'], loc = 'upper left')\n",
        "plt.show()\n"
      ],
      "metadata": {
        "colab": {
          "base_uri": "https://localhost:8080/",
          "height": 295
        },
        "id": "ZL4fMEUaXvnu",
        "outputId": "ce0e2d84-3d01-43d9-c330-942a7de4e306"
      },
      "execution_count": 13,
      "outputs": [
        {
          "output_type": "display_data",
          "data": {
            "text/plain": [
              "<Figure size 432x288 with 1 Axes>"
            ],
            "image/png": "[encoded data removed]"
          },
          "metadata": {
            "needs_background": "light"
          }
        }
      ]
    },
    {
      "cell_type": "code",
      "source": [
        ""
      ],
      "metadata": {
        "id": "zkYkAtF1biQ8"
      },
      "execution_count": null,
      "outputs": []
    }
  ]
}