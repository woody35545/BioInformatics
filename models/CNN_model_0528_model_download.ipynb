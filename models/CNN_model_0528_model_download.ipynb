{
  "nbformat": 4,
  "nbformat_minor": 0,
  "metadata": {
    "colab": {
      "name": "CNN_model_0527_125.ipynb",
      "provenance": [],
      "collapsed_sections": []
    },
    "kernelspec": {
      "name": "python3",
      "display_name": "Python 3"
    },
    "language_info": {
      "name": "python"
    },
    "accelerator": "GPU"
  },
  "cells": [
    {
      "cell_type": "code",
      "execution_count": null,
      "metadata": {
        "id": "X_OBwhfQ4Oiv"
      },
      "outputs": [],
      "source": [
        "import pandas as pd\n",
        "import numpy as np\n",
        "from sklearn.model_selection import train_test_split\n",
        "from sklearn.preprocessing import OneHotEncoder\n",
        "from itertools import product\n",
        "\n",
        "import matplotlib.pyplot as plt\n",
        "%matplotlib inline\n",
        "from os.path import join\n",
        "import tensorflow as tf\n",
        "from tensorflow.keras import layers, models, optimizers\n",
        "from tensorflow.python.keras.models import load_model\n"
      ]
    },
    {
      "cell_type": "code",
      "source": [
        "k_mer = []\n",
        "for i in product(['A', 'T', 'G', 'C', 'D'],repeat=3):\n",
        "    k_mer.append(''.join(i))\n",
        "    print(i, end=\" \")\n",
        "print(k_mer)"
      ],
      "metadata": {
        "colab": {
          "base_uri": "https://localhost:8080/"
        },
        "id": "LyLdfBDjNKMS",
        "outputId": "ce6c6e04-aee7-4978-be12-3c76a92e1be5"
      },
      "execution_count": null,
      "outputs": [
        {
          "output_type": "stream",
          "name": "stdout",
          "text": [
            "('A', 'A', 'A') ('A', 'A', 'T') ('A', 'A', 'G') ('A', 'A', 'C') ('A', 'A', 'D') ('A', 'T', 'A') ('A', 'T', 'T') ('A', 'T', 'G') ('A', 'T', 'C') ('A', 'T', 'D') ('A', 'G', 'A') ('A', 'G', 'T') ('A', 'G', 'G') ('A', 'G', 'C') ('A', 'G', 'D') ('A', 'C', 'A') ('A', 'C', 'T') ('A', 'C', 'G') ('A', 'C', 'C') ('A', 'C', 'D') ('A', 'D', 'A') ('A', 'D', 'T') ('A', 'D', 'G') ('A', 'D', 'C') ('A', 'D', 'D') ('T', 'A', 'A') ('T', 'A', 'T') ('T', 'A', 'G') ('T', 'A', 'C') ('T', 'A', 'D') ('T', 'T', 'A') ('T', 'T', 'T') ('T', 'T', 'G') ('T', 'T', 'C') ('T', 'T', 'D') ('T', 'G', 'A') ('T', 'G', 'T') ('T', 'G', 'G') ('T', 'G', 'C') ('T', 'G', 'D') ('T', 'C', 'A') ('T', 'C', 'T') ('T', 'C', 'G') ('T', 'C', 'C') ('T', 'C', 'D') ('T', 'D', 'A') ('T', 'D', 'T') ('T', 'D', 'G') ('T', 'D', 'C') ('T', 'D', 'D') ('G', 'A', 'A') ('G', 'A', 'T') ('G', 'A', 'G') ('G', 'A', 'C') ('G', 'A', 'D') ('G', 'T', 'A') ('G', 'T', 'T') ('G', 'T', 'G') ('G', 'T', 'C') ('G', 'T', 'D') ('G', 'G', 'A') ('G', 'G', 'T') ('G', 'G', 'G') ('G', 'G', 'C') ('G', 'G', 'D') ('G', 'C', 'A') ('G', 'C', 'T') ('G', 'C', 'G') ('G', 'C', 'C') ('G', 'C', 'D') ('G', 'D', 'A') ('G', 'D', 'T') ('G', 'D', 'G') ('G', 'D', 'C') ('G', 'D', 'D') ('C', 'A', 'A') ('C', 'A', 'T') ('C', 'A', 'G') ('C', 'A', 'C') ('C', 'A', 'D') ('C', 'T', 'A') ('C', 'T', 'T') ('C', 'T', 'G') ('C', 'T', 'C') ('C', 'T', 'D') ('C', 'G', 'A') ('C', 'G', 'T') ('C', 'G', 'G') ('C', 'G', 'C') ('C', 'G', 'D') ('C', 'C', 'A') ('C', 'C', 'T') ('C', 'C', 'G') ('C', 'C', 'C') ('C', 'C', 'D') ('C', 'D', 'A') ('C', 'D', 'T') ('C', 'D', 'G') ('C', 'D', 'C') ('C', 'D', 'D') ('D', 'A', 'A') ('D', 'A', 'T') ('D', 'A', 'G') ('D', 'A', 'C') ('D', 'A', 'D') ('D', 'T', 'A') ('D', 'T', 'T') ('D', 'T', 'G') ('D', 'T', 'C') ('D', 'T', 'D') ('D', 'G', 'A') ('D', 'G', 'T') ('D', 'G', 'G') ('D', 'G', 'C') ('D', 'G', 'D') ('D', 'C', 'A') ('D', 'C', 'T') ('D', 'C', 'G') ('D', 'C', 'C') ('D', 'C', 'D') ('D', 'D', 'A') ('D', 'D', 'T') ('D', 'D', 'G') ('D', 'D', 'C') ('D', 'D', 'D') ['AAA', 'AAT', 'AAG', 'AAC', 'AAD', 'ATA', 'ATT', 'ATG', 'ATC', 'ATD', 'AGA', 'AGT', 'AGG', 'AGC', 'AGD', 'ACA', 'ACT', 'ACG', 'ACC', 'ACD', 'ADA', 'ADT', 'ADG', 'ADC', 'ADD', 'TAA', 'TAT', 'TAG', 'TAC', 'TAD', 'TTA', 'TTT', 'TTG', 'TTC', 'TTD', 'TGA', 'TGT', 'TGG', 'TGC', 'TGD', 'TCA', 'TCT', 'TCG', 'TCC', 'TCD', 'TDA', 'TDT', 'TDG', 'TDC', 'TDD', 'GAA', 'GAT', 'GAG', 'GAC', 'GAD', 'GTA', 'GTT', 'GTG', 'GTC', 'GTD', 'GGA', 'GGT', 'GGG', 'GGC', 'GGD', 'GCA', 'GCT', 'GCG', 'GCC', 'GCD', 'GDA', 'GDT', 'GDG', 'GDC', 'GDD', 'CAA', 'CAT', 'CAG', 'CAC', 'CAD', 'CTA', 'CTT', 'CTG', 'CTC', 'CTD', 'CGA', 'CGT', 'CGG', 'CGC', 'CGD', 'CCA', 'CCT', 'CCG', 'CCC', 'CCD', 'CDA', 'CDT', 'CDG', 'CDC', 'CDD', 'DAA', 'DAT', 'DAG', 'DAC', 'DAD', 'DTA', 'DTT', 'DTG', 'DTC', 'DTD', 'DGA', 'DGT', 'DGG', 'DGC', 'DGD', 'DCA', 'DCT', 'DCG', 'DCC', 'DCD', 'DDA', 'DDT', 'DDG', 'DDC', 'DDD']\n"
          ]
        }
      ]
    },
    {
      "cell_type": "code",
      "source": [
        "k_mer = pd.DataFrame(k_mer)"
      ],
      "metadata": {
        "id": "M1oE8kIAZtg9"
      },
      "execution_count": null,
      "outputs": []
    },
    {
      "cell_type": "code",
      "source": [
        "ohencoder = OneHotEncoder()\n",
        "ohencoder.fit(k_mer)"
      ],
      "metadata": {
        "colab": {
          "base_uri": "https://localhost:8080/"
        },
        "id": "bI46rzVUQaow",
        "outputId": "b2159042-5013-4600-c9c5-119b7295d258"
      },
      "execution_count": null,
      "outputs": [
        {
          "output_type": "execute_result",
          "data": {
            "text/plain": [
              "OneHotEncoder()"
            ]
          },
          "metadata": {},
          "execution_count": 4
        }
      ]
    },
    {
      "cell_type": "code",
      "source": [
        "k_mer_oh = ohencoder.transform(k_mer).toarray()"
      ],
      "metadata": {
        "id": "Yo6Ei2uEVeXo"
      },
      "execution_count": null,
      "outputs": []
    },
    {
      "cell_type": "code",
      "source": [
        "k_mer_dict = dict()\n",
        "for i in range(125):\n",
        "  k_mer_dict[k_mer[0][i]] = k_mer_oh[i]"
      ],
      "metadata": {
        "id": "K0LB-w1ZcmIk"
      },
      "execution_count": null,
      "outputs": []
    },
    {
      "cell_type": "code",
      "source": [
        "res_list = []\n",
        "for i in range(125):\n",
        "  k_mer_dict[k_mer[0][i]] = list(map(int, (k_mer_dict[k_mer[0][i]])))"
      ],
      "metadata": {
        "id": "4AvR6D_Kgo52"
      },
      "execution_count": null,
      "outputs": []
    },
    {
      "cell_type": "code",
      "source": [
        "def sequence_to_onehot2(_datax):\n",
        "  res_list = []\n",
        "  for i in range(len(_datax)):\n",
        "    tmp =list()\n",
        "    for j in range(len(_datax[i])-3):\n",
        "      tmp.append(k_mer_dict[str(_datax[i][j:j+3])])\n",
        "    res_list.append(np.array(tmp))\n",
        "  res_np = np.array(res_list)\n",
        "  return res_np\n",
        "  "
      ],
      "metadata": {
        "id": "ZX4cRoVQjG2G"
      },
      "execution_count": null,
      "outputs": []
    },
    {
      "cell_type": "code",
      "source": [
        "# data shuffle\n",
        "df_shuffled = pd.read_csv('data.csv').sample(frac=1).reset_index(drop=True)\n",
        "\n",
        "# x, y 분류. numpy로 변환 후 1차원으로 reshape, sequence onehot encoding\n",
        "datax = sequence_to_onehot2(df_shuffled.iloc[:,[0,]].to_numpy().reshape(-1))\n",
        "datay = df_shuffled.iloc[:,[2,]].to_numpy().reshape(-1)\n"
      ],
      "metadata": {
        "id": "Nlk0gDXcjGu-"
      },
      "execution_count": null,
      "outputs": []
    },
    {
      "cell_type": "code",
      "source": [
        "print(datax.shape)"
      ],
      "metadata": {
        "colab": {
          "base_uri": "https://localhost:8080/"
        },
        "id": "PKBVARUi6vpB",
        "outputId": "093318a6-073b-423c-c7dd-62265eeb3d1a"
      },
      "execution_count": null,
      "outputs": [
        {
          "output_type": "stream",
          "name": "stdout",
          "text": [
            "(211, 5597, 125)\n"
          ]
        }
      ]
    },
    {
      "cell_type": "code",
      "source": [
        "# Train, Test Split \n",
        "trnx, tstx, trny, tsty = train_test_split(datax, datay, test_size = 0.2, random_state =111)\n",
        "\n",
        "print(f\"Train = {trnx.shape[0]}개, Test = {tstx.shape[0]}개\")\n",
        "print(f\"trnx.shape = {trnx.shape}\")\n",
        "print(f\"tstx.shape = {tstx.shape}\")\n",
        "print(f\"trny.shape = {trny.shape}\")\n",
        "print(f\"tsty.shape = {tsty.shape}\")\n",
        "\n"
      ],
      "metadata": {
        "colab": {
          "base_uri": "https://localhost:8080/"
        },
        "id": "q-VdsF73AgpL",
        "outputId": "f7087b5c-e1cd-4ff2-d420-709d96ba2e49"
      },
      "execution_count": null,
      "outputs": [
        {
          "output_type": "stream",
          "name": "stdout",
          "text": [
            "Train = 168개, Test = 43개\n",
            "trnx.shape = (168, 5597, 125)\n",
            "tstx.shape = (43, 5597, 125)\n",
            "trny.shape = (168,)\n",
            "tsty.shape = (43,)\n"
          ]
        }
      ]
    },
    {
      "cell_type": "code",
      "source": [
        "input_shape = (5597,125,1)\n",
        "cnn_model = models.Sequential()\n",
        "\n",
        "cnn_model.add(layers.Conv2D(16,(2,2), padding='same', input_shape=input_shape))\n",
        "cnn_model.add(layers.BatchNormalization())\n",
        "cnn_model.add(layers.Activation(\"relu\"))\n",
        "cnn_model.add(layers.MaxPooling2D((2,2)))\n",
        "\n",
        "cnn_model.add(layers.Conv2D(16,(2,2), padding='same'))\n",
        "cnn_model.add(layers.BatchNormalization())\n",
        "cnn_model.add(layers.Activation(\"relu\"))\n",
        "cnn_model.add(layers.Dropout(0.2))\n",
        "cnn_model.add(layers.MaxPooling2D((2,2)))\n",
        "\n",
        "cnn_model.add(layers.Flatten())\n",
        "\n",
        "cnn_model.add(layers.Dense(units = 100, activation = \"relu\"))\n",
        "cnn_model.add(layers.Dense(units = 1, activation = \"sigmoid\"))\n"
      ],
      "metadata": {
        "id": "3xt7StZmQh8E"
      },
      "execution_count": null,
      "outputs": []
    },
    {
      "cell_type": "code",
      "source": [
        "opt = optimizers.SGD(lr=0.01)\n",
        "cnn_model.compile(optimizer = 'Adam', loss = 'binary_crossentropy', metrics=['accuracy'])\n",
        "\n",
        "cnn_model.summary()"
      ],
      "metadata": {
        "colab": {
          "base_uri": "https://localhost:8080/"
        },
        "id": "rqGNWsGOklsp",
        "outputId": "d547ef0d-9540-47f7-e55e-dabcb5847380"
      },
      "execution_count": null,
      "outputs": [
        {
          "output_type": "stream",
          "name": "stdout",
          "text": [
            "Model: \"sequential_1\"\n",
            "_________________________________________________________________\n",
            " Layer (type)                Output Shape              Param #   \n",
            "=================================================================\n",
            " conv2d_2 (Conv2D)           (None, 5597, 125, 16)     80        \n",
            "                                                                 \n",
            " batch_normalization_2 (Batc  (None, 5597, 125, 16)    64        \n",
            " hNormalization)                                                 \n",
            "                                                                 \n",
            " activation_2 (Activation)   (None, 5597, 125, 16)     0         \n",
            "                                                                 \n",
            " max_pooling2d_2 (MaxPooling  (None, 2798, 62, 16)     0         \n",
            " 2D)                                                             \n",
            "                                                                 \n",
            " conv2d_3 (Conv2D)           (None, 2798, 62, 16)      1040      \n",
            "                                                                 \n",
            " batch_normalization_3 (Batc  (None, 2798, 62, 16)     64        \n",
            " hNormalization)                                                 \n",
            "                                                                 \n",
            " activation_3 (Activation)   (None, 2798, 62, 16)      0         \n",
            "                                                                 \n",
            " dropout_1 (Dropout)         (None, 2798, 62, 16)      0         \n",
            "                                                                 \n",
            " max_pooling2d_3 (MaxPooling  (None, 1399, 31, 16)     0         \n",
            " 2D)                                                             \n",
            "                                                                 \n",
            " flatten_1 (Flatten)         (None, 693904)            0         \n",
            "                                                                 \n",
            " dense_2 (Dense)             (None, 100)               69390500  \n",
            "                                                                 \n",
            " dense_3 (Dense)             (None, 1)                 101       \n",
            "                                                                 \n",
            "=================================================================\n",
            "Total params: 69,391,849\n",
            "Trainable params: 69,391,785\n",
            "Non-trainable params: 64\n",
            "_________________________________________________________________\n"
          ]
        },
        {
          "output_type": "stream",
          "name": "stderr",
          "text": [
            "/usr/local/lib/python3.7/dist-packages/keras/optimizer_v2/gradient_descent.py:102: UserWarning: The `lr` argument is deprecated, use `learning_rate` instead.\n",
            "  super(SGD, self).__init__(name, **kwargs)\n"
          ]
        }
      ]
    },
    {
      "cell_type": "code",
      "source": [
        "histroy = cnn_model.fit(trnx.reshape(-1,5597,125,1), trny, validation_data = [tstx.reshape(-1,5597,125,1),tsty], batch_size=10, epochs = 5)"
      ],
      "metadata": {
        "colab": {
          "base_uri": "https://localhost:8080/"
        },
        "id": "1PX_55ZGXfJW",
        "outputId": "2bb37321-a1ee-4f64-9bdd-8199e6042642"
      },
      "execution_count": null,
      "outputs": [
        {
          "output_type": "stream",
          "name": "stdout",
          "text": [
            "Epoch 1/5\n",
            "17/17 [==============================] - 4s 176ms/step - loss: 104.0966 - accuracy: 0.5833 - val_loss: 3.6717 - val_accuracy: 0.7209\n",
            "Epoch 2/5\n",
            "17/17 [==============================] - 3s 161ms/step - loss: 35.8845 - accuracy: 0.6786 - val_loss: 2.2248 - val_accuracy: 0.5116\n",
            "Epoch 3/5\n",
            "17/17 [==============================] - 3s 159ms/step - loss: 8.9602 - accuracy: 0.6667 - val_loss: 2.3347 - val_accuracy: 0.5116\n",
            "Epoch 4/5\n",
            "17/17 [==============================] - 3s 157ms/step - loss: 5.9504 - accuracy: 0.7381 - val_loss: 6.2307 - val_accuracy: 0.5116\n",
            "Epoch 5/5\n",
            "17/17 [==============================] - 3s 156ms/step - loss: 1.1996 - accuracy: 0.8571 - val_loss: 8.7712 - val_accuracy: 0.5116\n"
          ]
        }
      ]
    },
    {
      "cell_type": "code",
      "source": [
        "# Model Performance (Measurement = Accuracy)\n",
        "plt.plot(histroy.history['accuracy'])\n",
        "plt.plot(histroy.history['val_accuracy'])\n",
        "plt.title('model accuracy')\n",
        "plt.ylabel('accuracy')\n",
        "plt.xlabel('epoch')\n",
        "plt.legend(['train','test'], loc = 'lower right')\n",
        "plt.show()\n"
      ],
      "metadata": {
        "id": "ZL4fMEUaXvnu",
        "colab": {
          "base_uri": "https://localhost:8080/",
          "height": 295
        },
        "outputId": "77d18e98-3653-4488-dfee-60cc810410be"
      },
      "execution_count": null,
      "outputs": [
        {
          "output_type": "display_data",
          "data": {
            "text/plain": [
              "<Figure size 432x288 with 1 Axes>"
            ],
            "image/png": "[encoded data removed]"
          },
          "metadata": {
            "needs_background": "light"
          }
        }
      ]
    },
    {
      "cell_type": "code",
      "source": [
        "cnn_model.save('save')"
      ],
      "metadata": {
        "colab": {
          "base_uri": "https://localhost:8080/"
        },
        "id": "hRzFHbUrw7gb",
        "outputId": "da33fdb7-8fc2-484b-cbf3-45dd4bad9da4"
      },
      "execution_count": null,
      "outputs": [
        {
          "output_type": "stream",
          "name": "stdout",
          "text": [
            "INFO:tensorflow:Assets written to: save/assets\n"
          ]
        }
      ]
    },
    {
      "cell_type": "code",
      "source": [
        "from tensorflow.python.keras.utils import np_utils\n",
        "from tensorflow.python.keras.models import Sequential\n",
        "from tensorflow.python.keras.layers import Dense, Activation\n",
        "import numpy as np\n",
        "from numpy import argmax\n",
        "from tensorflow.python.keras.models import load_model\n",
        "import pandas as pd\n",
        "import numpy as np\n",
        "from sklearn.model_selection import train_test_split\n",
        "from sklearn.preprocessing import OneHotEncoder\n",
        "from itertools import product\n",
        "\n",
        "import matplotlib.pyplot as plt\n",
        "%matplotlib inline\n",
        "from os.path import join\n",
        "import tensorflow as tf\n",
        "from tensorflow.keras import layers, models, optimizers\n",
        "from tensorflow.python.keras.models import load_model\n",
        "\n",
        "model = load_model('save')\n",
        "probability_model = tf.keras.Sequential([model, tf.keras.layers.Softmax()])\n",
        "xhat = datax[198].reshape(-1,5597,125,1)\n",
        "yhat = probability_model.predict(xhat)\n",
        "print(yhat)\n",
        "print('Predict : ',str(yhat))"
      ],
      "metadata": {
        "colab": {
          "base_uri": "https://localhost:8080/"
        },
        "id": "5Ti82aUuyAWU",
        "outputId": "7eee1a46-7faf-4bea-98cc-933cd1e039c1"
      },
      "execution_count": null,
      "outputs": [
        {
          "output_type": "stream",
          "name": "stdout",
          "text": [
            "WARNING:tensorflow:5 out of the last 5 calls to <function Model.make_predict_function.<locals>.predict_function at 0x7f19663ebc20> triggered tf.function retracing. Tracing is expensive and the excessive number of tracings could be due to (1) creating @tf.function repeatedly in a loop, (2) passing tensors with different shapes, (3) passing Python objects instead of tensors. For (1), please define your @tf.function outside of the loop. For (2), @tf.function has experimental_relax_shapes=True option that relaxes argument shapes that can avoid unnecessary retracing. For (3), please refer to https://www.tensorflow.org/guide/function#controlling_retracing and https://www.tensorflow.org/api_docs/python/tf/function for  more details.\n",
            "[[1.]]\n",
            "Predict :  [[1.]]\n"
          ]
        }
      ]
    }
  ]
}